{
 "cells": [
  {
   "cell_type": "markdown",
   "metadata": {},
   "source": [
    "# Web scraping using Python and PhantomJS\n",
    "\n",
    "This is a starter kit for developing web scrapers using Python and PhantomJS.\n"
   ]
  },
  {
   "cell_type": "code",
   "execution_count": 1,
   "metadata": {
    "collapsed": true
   },
   "outputs": [],
   "source": [
    "import platform\n",
    "from selenium import webdriver\n",
    "from bs4 import BeautifulSoup"
   ]
  },
  {
   "cell_type": "code",
   "execution_count": 2,
   "metadata": {},
   "outputs": [
    {
     "name": "stdout",
     "output_type": "stream",
     "text": [
      "3.6.1\n"
     ]
    }
   ],
   "source": [
    "# Check Python version\n",
    "print(platform.python_version())"
   ]
  },
  {
   "cell_type": "code",
   "execution_count": 3,
   "metadata": {
    "collapsed": true
   },
   "outputs": [],
   "source": [
    "# Using the right PhantomJS for the corresponding OS\n",
    "if platform.system() == \"Windows\":\n",
    "    PHANTOMJS_EXE = \"./PhantomJS/phantomjs.exe\"\n",
    "else:\n",
    "    PHANTOMJS_EXE = \"./PhantomJS/phantomjs\""
   ]
  },
  {
   "cell_type": "code",
   "execution_count": 4,
   "metadata": {
    "collapsed": true
   },
   "outputs": [],
   "source": [
    "# Use PhantomJS to browse the page, alternatively we can use\n",
    "# browser = webdriver.Firefox()\n",
    "browser = webdriver.PhantomJS(PHANTOMJS_EXE)\n",
    "browser.get('http://www.scoreboard.com/en/tennis/atp-singles/us-open-2015/results/')"
   ]
  },
  {
   "cell_type": "code",
   "execution_count": 5,
   "metadata": {
    "collapsed": true
   },
   "outputs": [],
   "source": [
    "# Parse the html source\n",
    "soup = BeautifulSoup(browser.page_source, \"html.parser\")"
   ]
  },
  {
   "cell_type": "code",
   "execution_count": 6,
   "metadata": {
    "collapsed": true
   },
   "outputs": [],
   "source": [
    "# Get all the games\n",
    "games = soup.find_all('tr', {'class': 'stage-finished'})"
   ]
  },
  {
   "cell_type": "code",
   "execution_count": 7,
   "metadata": {},
   "outputs": [
    {
     "name": "stdout",
     "output_type": "stream",
     "text": [
      "<tr class=\"odd no-border-bottom stage-finished\" id=\"g_2_2DtOK9O8\">\n",
      " <td class=\"cell_ib icons left \">\n",
      " </td>\n",
      " <td class=\"cell_ad time \">\n",
      "  14.09. 01:20\n",
      " </td>\n",
      " <td class=\"cell_ab team-home bold \">\n",
      "  <span class=\"padl\">\n",
      "   Djokovic N. (Srb)\n",
      "  </span>\n",
      " </td>\n",
      " <td class=\"cell_ac team-away \">\n",
      "  <span class=\"padl\">\n",
      "   Federer R. (Sui)\n",
      "  </span>\n",
      " </td>\n",
      " <td class=\"cell_sa score bold \">\n",
      "  3 : 1\n",
      " </td>\n",
      " <td class=\"cell_ia icons \">\n",
      "  <span class=\"icons\">\n",
      "  </span>\n",
      " </td>\n",
      "</tr>\n",
      "\n"
     ]
    }
   ],
   "source": [
    "# Print out the html for the first game\n",
    "print(games[0].prettify())"
   ]
  }
 ],
 "metadata": {
  "kernelspec": {
   "display_name": "Python 3",
   "language": "python",
   "name": "python3"
  },
  "language_info": {
   "codemirror_mode": {
    "name": "ipython",
    "version": 3
   },
   "file_extension": ".py",
   "mimetype": "text/x-python",
   "name": "python",
   "nbconvert_exporter": "python",
   "pygments_lexer": "ipython3",
   "version": "3.6.1"
  }
 },
 "nbformat": 4,
 "nbformat_minor": 2
}
