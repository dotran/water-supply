{
 "cells": [
  {
   "cell_type": "markdown",
   "metadata": {},
   "source": [
    "# Web scraping using Python and PhantomJS\n",
    "\n",
    "This is a starter kit for developing web scrapers using Python and PhantomJS.\n"
   ]
  },
  {
   "cell_type": "code",
   "execution_count": 1,
   "metadata": {
    "collapsed": true
   },
   "outputs": [],
   "source": [
    "\n",
    "import platform\n",
    "import time\n",
    "# from bs4 import BeautifulSoup\n",
    "from selenium import webdriver\n",
    "from selenium.webdriver.common.keys import Keys\n",
    "from selenium.webdriver.common.by import By\n",
    "from selenium.webdriver.support.ui import WebDriverWait\n",
    "from selenium.webdriver.support import expected_conditions as EC\n",
    "\n",
    "\n",
    "# Using the right PhantomJS for the corresponding OS\n",
    "if platform.system() == \"Windows\":\n",
    "    PHANTOMJS_EXE = \"./PhantomJS/phantomjs.exe\"\n",
    "else:\n",
    "    PHANTOMJS_EXE = \"./PhantomJS/phantomjs\"\n",
    "\n",
    "USER_AGENT = \"Mozilla/5.0 (Windows NT 10.0; Win64; x64) \" + \\\n",
    "             \"AppleWebKit/537.36 (KHTML, like Gecko) \" + \\\n",
    "             \"Chrome/55.0.2883.87 Safari/537.36\"\n",
    "\n",
    "URL_LOGIN = \"http://datalogger.capnuocnhabe.vn\"\n",
    "# URL_LOGIN = \"http://113.161.69.85:1802/Login.aspx\"\n",
    "ACCOUNT = {'id': \"sawaco\", 'pw': \"123456\"}\n",
    "URL_LOGGER = \"http://113.161.69.85:1802/Consumer/Logger/Daily_Monthly.aspx\"\n",
    "START_DATE = '01/09/2017'\n",
    "END_DATE   = '05/09/2017'\n",
    "XNTD = [\"39 Ben Van Don\",\n",
    "        \"65 BEN VAN DON\",\n",
    "        # \"90 BEN VAN DON\",\n",
    "        # \"BEN VAN DON_NGUYEN KHOAI\",\n",
    "        # \"CALMETTE - BEN VAN DON\",\n",
    "        # \"CAU HIEP PHUOC\",\n",
    "        # \"CAU RACH ONG 1\",\n",
    "        # \"Cau Rach Ong 2\",\n",
    "        # \"CAU TAC BEN RO\",\n",
    "        # \"CTY PT CN TAN THUAN\",\n",
    "        # \"D1000 Huynh Tan Phat\",\n",
    "        # \"D300 Cau Ba Chiem\",\n",
    "        # \"D600 Cau Ong Lon\",\n",
    "        # \"D600 NVLinh_NHTho\",\n",
    "        # \"KCN HIEP PHUOC\",\n",
    "        # \"KCX TThuan\",\n",
    "        # \"LONG THOI - NHON DUC\",\n",
    "        # \"NGUYEN BINH\",\n",
    "        # \"NHTho_PHLau\",\n",
    "        # \"NVLinh_NLBang\",\n",
    "        \"VUON UOM BOO\",\n",
    "        # \"Vuon uom Tan Thuan\",\n",
    "        \"D1000 Huynh Tan Phat (ÐC)\",\n",
    "        # \"D300 Cau Ba Chiem (ÐC)\",\n",
    "        # \"D600 NVLinh_NHTho (ÐC)\",\n",
    "        # \"NHTho_PHLau (ÐC)\",\n",
    "        # \"NVLinh_NLBang (ÐC)\",\n",
    "        # \"Vuon uom BOO (ÐC)\",\n",
    "        # \"Vuon uom Tan Thuan (ÐC)\",\n",
    "]\n",
    "\n",
    "XNTD = [\"102 LE QUOC HUNG\"]\n",
    "\n",
    "\n",
    "def site_log_in(driver, account):\n",
    "    wait = WebDriverWait(driver, 10)\n",
    "    wait.until(EC.presence_of_element_located((By.ID, \"ContentPlaceHolder1_ucLogin1_Login1_LoginButton\")))\n",
    "\n",
    "    # METHOD 1\n",
    "    # --------\n",
    "    driver.find_element_by_xpath(\"//input[@id='ContentPlaceHolder1_ucLogin1_Login1_UserName']\").send_keys(account['id'])\n",
    "    driver.find_element_by_xpath(\"//input[@id='ContentPlaceHolder1_ucLogin1_Login1_Password']\").send_keys(account['pw'])\n",
    "    driver.find_element_by_xpath(\"//input[@id='ContentPlaceHolder1_ucLogin1_Login1_LoginButton']\").click()\n",
    "\n",
    "    # METHOD 2\n",
    "    # --------\n",
    "    # from selenium.webdriver.common.keys import Keys\n",
    "    # from selenium.webdriver import ActionChains\n",
    "    # username_field = driver.find_element_by_xpath(\"//input[@id='ContentPlaceHolder1_ucLogin1_Login1_UserName']\")\n",
    "    # password_field = driver.find_element_by_xpath(\"//input[@id='ContentPlaceHolder1_ucLogin1_Login1_Password']\")\n",
    "    # actions = ActionChains(driver).click(username_field).send_keys(\"sawaco\")\\\n",
    "    #                               .click(password_field).send_keys(\"123456\")\\\n",
    "    #                               .send_keys(Keys.RETURN)\n",
    "    # actions.perform()\n",
    "\n",
    "    # METHOD 3\n",
    "    # --------\n",
    "    # wait = WebDriverWait(driver, 10)\n",
    "    # username = wait.until(EC.element_to_be_clickable(\n",
    "    #     (By.XPATH, \"//input[@name='ctl00$ContentPlaceHolder1$ucLogin1$Login1$UserName']\")))\n",
    "    # username.send_keys(\"sawaco\")\n",
    "    # password = wait.until(EC.element_to_be_clickable(\n",
    "    #     (By.XPATH, \"//input[@name='ctl00$ContentPlaceHolder1$ucLogin1$Login1$Password']\")))\n",
    "    # password.send_keys(\"123456\")\n",
    "    # login_btn = driver.find_element_by_xpath(\"//input[@id='ContentPlaceHolder1_ucLogin1_Login1_LoginButton']\")\n",
    "    # login_btn.click()\n",
    "\n",
    "    wait.until(EC.presence_of_all_elements_located((By.ID, \"RAD_SLIDING_PANE_TEXT_RadSlidingPane2\")))\n",
    "    driver.maximize_window()\n",
    "\n",
    "\n",
    "def get_locations_list(driver):\n",
    "    \"\"\"Return the list of all locations/meters available in the dropdown.\n",
    "    \"\"\"\n",
    "    elem = rewind_dropdown_list(driver, 1)\n",
    "    locations = []\n",
    "    while True:\n",
    "        loc = get_highlighted_location(driver)\n",
    "        if locations and loc == locations[-1]:\n",
    "            break\n",
    "        locations.append(loc)\n",
    "        elem.send_keys(Keys.ARROW_DOWN + Keys.ENTER)\n",
    "    rewind_dropdown_list(elem, len(locations))\n",
    "    return locations\n",
    "\n",
    "\n",
    "def get_highlighted_location(driver):\n",
    "    \"\"\"Read the name of the location/meter that are\n",
    "    currently highlighted in the dropdown list.\n",
    "\n",
    "    Example:\n",
    "    value = {\"logEntries\":[],\"value\":\"Vuon uom Tan Thuan (ÐC)\",\"text\":\"Vuon uom Tan Thuan (ĐC)\",\"enabled\":true,\"checkedIndices\":[],\"checkedItemsTextOverflows\":false}\n",
    "    \"\"\"\n",
    "    value = driver.find_element_by_xpath(\n",
    "        \"//input[@id='ctl00_ContentPlaceHolder1_ucDailyReportConsumer_cboSites_ClientState']\") \\\n",
    "        .get_attribute(\"value\")\n",
    "    val = value.split(',')[1].split(':')[1].strip('\"')\n",
    "    text = value.split(',')[2].split(':')[1].strip('\"')\n",
    "    return {'value': val, 'text': text}\n",
    "\n",
    "\n",
    "def rewind_dropdown_list(driver, num_steps):\n",
    "    \"\"\"Go to the beginning of the dropdown list.\n",
    "    \"\"\"\n",
    "    element = driver.find_element_by_xpath(\n",
    "        \"//input[@id='ctl00_ContentPlaceHolder1_ucDailyReportConsumer_cboSites_Input']\")\n",
    "    element.click()\n",
    "    element.send_keys(Keys.ARROW_DOWN)\n",
    "    for i in range(num_steps):\n",
    "        element.send_keys(Keys.ARROW_UP)\n",
    "    element.send_keys(Keys.ENTER)\n",
    "    return element\n",
    "\n",
    "\n",
    "def select_a_location(driver, list_length, location):\n",
    "    \"\"\"Select a location/meter from the dropdown list.\n",
    "    \"\"\"\n",
    "    elem = rewind_dropdown_list(driver, list_length)\n",
    "    elem.click()\n",
    "\n",
    "    previous_loc = None\n",
    "    while True:\n",
    "        current_loc = get_highlighted_location(driver)\n",
    "        # print(current_loc)\n",
    "        if current_loc == previous_loc:\n",
    "            print(\"Couldn't find the requested location/meter.\")\n",
    "            return False\n",
    "        if location in current_loc.values():\n",
    "            return True\n",
    "        previous_loc = current_loc\n",
    "        elem.send_keys(Keys.ARROW_DOWN + Keys.ENTER)\n",
    "\n",
    "\n",
    "class TableWait(object):\n",
    "    def __init__(self, driver, timeout=10):\n",
    "        self.driver = driver\n",
    "        self.timeout = timeout\n",
    "\n",
    "    def __enter__(self):\n",
    "        tables = self.driver.find_elements_by_xpath(\"//table[@id='ctl00_ContentPlaceHolder1_ucDailyReportConsumer_grv_ctl00']\")\n",
    "        if len(tables) == 0:\n",
    "            self.begin = True\n",
    "        else:\n",
    "            self.begin = False\n",
    "            self.old_table = tables[0]\n",
    "\n",
    "        # Click on the Xem button\n",
    "        self.driver.find_element_by_xpath(\n",
    "            \"//input[@id='ctl00_ContentPlaceHolder1_ucDailyReportConsumer_btnView_input']\").click()\n",
    "\n",
    "    def __exit__(self, *_):\n",
    "        if self.begin:\n",
    "            # WebDriverWait(self.driver, self.timeout).until(\n",
    "            #     EC.element_to_be_clickable((By.ID, \"ctl00_ContentPlaceHolder1_ucDailyReportConsumer_grv_ctl00\")))\n",
    "            wait_for(self.table_has_shown, self.timeout)\n",
    "        else:\n",
    "            wait_for(self.table_has_updated, self.timeout)\n",
    "\n",
    "    def table_has_shown(self):\n",
    "        tables = self.driver.find_elements_by_xpath(\"//table[@id='ctl00_ContentPlaceHolder1_ucDailyReportConsumer_grv_ctl00']\")\n",
    "        return len(tables) > 0\n",
    "\n",
    "    def table_has_updated(self):\n",
    "        new_table = self.driver.find_element_by_xpath(\"//table[@id='ctl00_ContentPlaceHolder1_ucDailyReportConsumer_grv_ctl00']\")\n",
    "        return new_table.id != self.old_table.id\n",
    "\n",
    "\n",
    "def wait_for(condition_function, timeout):\n",
    "    start_time = time.time()\n",
    "    while time.time() < start_time + timeout:\n",
    "        if condition_function():\n",
    "            print(\"Waited successfully in {:.1f} sec.\".format(time.time() - start_time))\n",
    "            return True\n",
    "        else:\n",
    "            time.sleep(0.1)\n",
    "    raise Exception(\"Timeout {} sec waiting for {}.\".format(timeout, condition_function.__name__))\n",
    "    # print(\"  Timeout waiting for table update.\")\n",
    "    # return False\n",
    "\n"
   ]
  },
  {
   "cell_type": "code",
   "execution_count": 2,
   "metadata": {},
   "outputs": [],
   "source": [
    "# Use PhantomJS to browse the page\n",
    "caps = webdriver.DesiredCapabilities.PHANTOMJS\n",
    "caps['phantomjs.page.settings.userAgent'] = USER_AGENT\n",
    "driver = webdriver.PhantomJS(executable_path=PHANTOMJS_EXE, desired_capabilities=caps)\n",
    "\n",
    "driver.get(URL_LOGIN)\n",
    "site_log_in(driver, ACCOUNT)\n",
    "\n",
    "# Now that you are logged in, go to the page of interest\n",
    "driver.get(URL_LOGGER)\n",
    "wait = WebDriverWait(driver, 10)\n",
    "wait.until(EC.element_to_be_clickable((By.ID, \"ctl00_ContentPlaceHolder1_ucDailyReportConsumer_btnView_input\")))\n",
    "\n",
    "element = driver.find_element_by_xpath(\"//input[@id='ctl00_ContentPlaceHolder1_ucDailyReportConsumer_dtmStart_dateInput']\")\n",
    "element.clear()\n",
    "element.send_keys(START_DATE)\n",
    "\n",
    "element = driver.find_element_by_xpath(\"//input[@id='ctl00_ContentPlaceHolder1_ucDailyReportConsumer_dtmEnd_dateInput']\")\n",
    "element.clear()\n",
    "element.send_keys(END_DATE)\n",
    "\n",
    "locations = get_locations_list(driver)\n",
    "# for i in locations:\n",
    "#     print(i)\n"
   ]
  },
  {
   "cell_type": "code",
   "execution_count": 3,
   "metadata": {},
   "outputs": [
    {
     "name": "stdout",
     "output_type": "stream",
     "text": [
      "{'value': '1 DUONG 15', 'text': '1 DUONG 15'}\n",
      "{'value': '102 LE QUOC HUNG', 'text': '102 LE QUOC HUNG'}\n",
      "{'value': '1041 TRAN XUAN SOAN', 'text': '1041 TRAN XUAN SOAN'}\n",
      "{'value': '109 BEN VAN DON', 'text': '109 BEN VAN DON'}\n",
      "{'value': '1243 LE VAN LUONG', 'text': '1243 LE VAN LUONG'}\n",
      "{'value': '131-133 KHANH HOI-DOMINO', 'text': '131-133 KHANH HOI-DOMINO'}\n",
      "{'value': '1368 LE VAN LUONG', 'text': '1368 LE VAN LUONG'}\n",
      "{'value': '1419 LE VAN LUONG', 'text': '1419 LE VAN LUONG'}\n",
      "{'value': '148 LAM VAN BEN', 'text': '148 LAM VAN BEN'}\n",
      "{'value': '148 TON DAN', 'text': '148 TON DAN'}\n",
      "{'value': '15A PHU LONG', 'text': '15A PHU LONG'}\n",
      "{'value': '16 DUONG CAT LOI', 'text': '16 DUONG CAT LOI'}\n",
      "{'value': '16/8C BUI VAN BA', 'text': '16/8C BUI VAN BA'}\n",
      "{'value': '1716 HUYNH TAN PHAT', 'text': '1716 HUYNH TAN PHAT'}\n",
      "{'value': '176 NGUYEN THI THAP', 'text': '176 NGUYEN THI THAP'}\n",
      "{'value': '183C TON THAT THUYET', 'text': '183C TON THAT THUYET'}\n",
      "{'value': '183F TON THAT THUYET', 'text': '183F TON THAT THUYET'}\n",
      "{'value': '1841 LE VAN LUONG', 'text': '1841 LE VAN LUONG'}\n",
      "{'value': '1886 HUYNH TAN PHAT', 'text': '1886 HUYNH TAN PHAT'}\n",
      "{'value': '189C TON THAT THUYET', 'text': '189C TON THAT THUYET'}\n",
      "{'value': '200 XOM CHIEU', 'text': '200 XOM CHIEU'}\n",
      "{'value': '214 NGUYEN TAT THANH', 'text': '214 NGUYEN TAT THANH'}\n",
      "{'value': '243 TON DAN', 'text': '243 TON DAN'}\n",
      "{'value': '25 TON DAN', 'text': '25 TON DAN'}\n",
      "{'value': '266 TON DAN', 'text': '266 TON DAN'}\n",
      "{'value': '28ha NGUYEN BINH', 'text': '28ha NGUYEN BINH'}\n",
      "{'value': '30 LAM VAN BEN', 'text': '30 LAM VAN BEN'}\n",
      "{'value': '300 NGUYEN BINH', 'text': '300 NGUYEN BINH'}\n",
      "{'value': '300 NGUYEN VAN LINH', 'text': '300 NGUYEN VAN LINH'}\n",
      "{'value': '320 DOAN VAN BO', 'text': '320 DOAN VAN BO'}\n",
      "{'value': '385 TRAN XUAN SOAN', 'text': '385 TRAN XUAN SOAN'}\n",
      "{'value': '399 TRAN XUAN SOAN', 'text': '399 TRAN XUAN SOAN'}\n",
      "{'value': '400 NGUYEN VAN LINH', 'text': '400 NGUYEN VAN LINH'}\n",
      "{'value': '433 Huynh Tan Phat', 'text': '433 Huynh Tan Phat'}\n",
      "{'value': '508 NGUYEN VAN TAO', 'text': '508 NGUYEN VAN TAO'}\n",
      "{'value': '577 TRAN XUAN SOAN', 'text': '577 TRAN XUAN SOAN'}\n",
      "{'value': '579 DOAN VAN BO', 'text': '579 DOAN VAN BO'}\n",
      "{'value': '62 LAM VAN BEN', 'text': '62 LAM VAN BEN'}\n",
      "{'value': '64 NGUYEN KHOAI', 'text': '64 NGUYEN KHOAI'}\n",
      "{'value': '65 BEN VAN DON', 'text': '65 BEN VAN DON'}\n",
      "{'value': '659 NGUYEN HUU THO', 'text': '659 NGUYEN HUU THO'}\n",
      "{'value': '692 LE VAN LUONG', 'text': '692 LE VAN LUONG'}\n",
      "{'value': '724 LE VAN LUONG', 'text': '724 LE VAN LUONG'}\n",
      "{'value': '78 KHANH HOI', 'text': '78 KHANH HOI'}\n",
      "{'value': '79 TAN QUY', 'text': '79 TAN QUY'}\n",
      "{'value': '824 NGUYEN BINH', 'text': '824 NGUYEN BINH'}\n",
      "{'value': '825 DOAN VAN BO', 'text': '825 DOAN VAN BO'}\n",
      "{'value': '861 TRAN XUAN SOAN', 'text': '861 TRAN XUAN SOAN'}\n",
      "{'value': '865 TRAN XUAN SOAN', 'text': '865 TRAN XUAN SOAN'}\n",
      "{'value': '889 TRAN XUAN SOAN', 'text': '889 TRAN XUAN SOAN'}\n",
      "{'value': '90 BEN VAN DON', 'text': '90 BEN VAN DON'}\n",
      "{'value': '92 TON THAT THUYET', 'text': '92 TON THAT THUYET'}\n",
      "{'value': 'Ben Van Don', 'text': '39 Ben Van Don'}\n",
      "{'value': 'BEN VAN DON_NGUYEN KHOAI', 'text': 'BEN VAN DON_NGUYEN KHOAI'}\n",
      "{'value': 'BUI VAN BA_LEPHAI', 'text': 'BUI VAN BA_LEPHAI'}\n",
      "{'value': 'BUI VAN BA_LETRAI', 'text': 'BUI VAN BA_LETRAI'}\n",
      "{'value': 'BUU DIEN_PHUOC KIEN', 'text': 'BUU DIEN_PHUOC KIEN'}\n",
      "{'value': 'CALMETTE - BEN VAN DON', 'text': 'CALMETTE - BEN VAN DON'}\n",
      "{'value': 'CANG VICT', 'text': 'CANG VICT'}\n",
      "{'value': 'CAU DUA', 'text': 'CAU DUA'}\n",
      "{'value': 'CAU HIEP PHUOC', 'text': 'CAU HIEP PHUOC'}\n",
      "{'value': 'CAU PHU XUAN', 'text': 'CAU PHU XUAN'}\n",
      "{'value': 'CAU RACH CHIEM', 'text': 'CAU RACH CHIEM'}\n",
      "{'value': 'CAU RACH DOI', 'text': 'CAU RACH DOI'}\n",
      "{'value': 'CAU RACH ONG 1', 'text': 'CAU RACH ONG 1'}\n",
      "{'value': 'Cau Rach Ong 2', 'text': 'Cau Rach Ong 2'}\n",
      "{'value': 'CAU TAC BEN RO', 'text': 'CAU TAC BEN RO'}\n",
      "{'value': 'CHUA LONG BUU', 'text': 'CHUA LONG BUU'}\n",
      "{'value': 'CHUYEN DUNG 9', 'text': 'CHUYEN DUNG 9'}\n",
      "{'value': 'CONG KCX TAN THUAN', 'text': 'CONG KCX TAN THUAN'}\n",
      "{'value': 'COTEC', 'text': 'COTEC'}\n",
      "{'value': 'CTY PT CN TAN THUAN', 'text': 'CTY PT CN TAN THUAN'}\n",
      "{'value': 'CU XA NGAN HANG', 'text': 'CU XA NGAN HANG'}\n",
      "{'value': 'D1000 Huynh Tan Phat', 'text': 'D1000 Huynh Tan Phat'}\n",
      "{'value': 'D1000 Huynh Tan Phat (ÐC)', 'text': 'D1000 Huynh Tan Phat (ĐC)'}\n",
      "{'value': 'D300 Cau Ba Chiem', 'text': 'D300 Cau Ba Chiem'}\n",
      "{'value': 'D300 Cau Ba Chiem (ÐC)', 'text': 'D300 Cau Ba Chiem (ĐC)'}\n",
      "{'value': 'D600 Cau Ong Lon', 'text': 'D600 Cau Ong Lon'}\n",
      "{'value': 'D600 NVLinh_NHTho', 'text': 'D600 NVLinh_NHTho'}\n",
      "{'value': 'D600 NVLinh_NHTho (ÐC)', 'text': 'D600 NVLinh_NHTho (ĐC)'}\n",
      "{'value': 'DANG NHU LAM', 'text': 'DANG NHU LAM'}\n",
      "{'value': 'DAO TONG NGUYEN', 'text': 'DAO TONG NGUYEN'}\n",
      "{'value': 'DUONG 17', 'text': 'DUONG 17'}\n",
      "{'value': 'GOLDEN HOPE', 'text': 'GOLDEN HOPE'}\n",
      "{'value': 'HIMLAM_LP', 'text': 'HIMLAM_LP'}\n",
      "{'value': 'HIMLAM_LT', 'text': 'HIMLAM_LT'}\n",
      "{'value': 'HONG LAY NUOC1_TXS', 'text': 'HONG LAY NUOC1_TXS'}\n",
      "{'value': 'HONG LAY NUOC4_TXS', 'text': 'HONG LAY NUOC4_TXS'}\n",
      "{'value': 'KCN HIEP PHUOC', 'text': 'KCN HIEP PHUOC'}\n",
      "{'value': 'KCN HIEP PHUOC_A', 'text': 'KCN HIEP PHUOC_A'}\n",
      "{'value': 'KCX TThuan', 'text': 'KCX TThuan'}\n",
      "{'value': 'KDC TRAN THAI', 'text': 'KDC TRAN THAI'}\n",
      "{'value': 'KDC VEN SONG TAN PHONG', 'text': 'KDC VEN SONG TAN PHONG'}\n",
      "{'value': 'KHU AC LANG DAI HOC', 'text': 'KHU AC LANG DAI HOC'}\n",
      "{'value': 'KHU B LANG DAI HOC', 'text': 'KHU B LANG DAI HOC'}\n",
      "{'value': 'LAM VAN BEN_NTT', 'text': 'LAM VAN BEN_NTT'}\n",
      "{'value': 'LE PHAI TON DAN', 'text': 'LE PHAI TON DAN'}\n",
      "{'value': 'LIEN AP 2_3', 'text': 'LIEN AP 2-3'}\n",
      "{'value': 'LIEN AP 3_4', 'text': 'LIEN AP 3-4'}\n",
      "{'value': 'LONG THOI - NHON DUC', 'text': 'LONG THOI - NHON DUC'}\n",
      "{'value': 'LT_ DAO SU TICH', 'text': 'LT_ DAO SU TICH'}\n",
      "{'value': 'LT_NGUYEN VAN QUY', 'text': 'LT_NGUYEN VAN QUY'}\n",
      "{'value': 'LVL_NVL', 'text': 'LVL_NVL'}\n",
      "{'value': 'LVLUONG_NDUC', 'text': 'LVLUONG_NDUC'}\n",
      "{'value': 'LY PHUC MAN_LE PHAI', 'text': 'LY PHUC MAN_LE PHAI'}\n",
      "{'value': 'LY PHUC MAN_LE TRAI', 'text': 'LY PHUC MAN_LE TRAI'}\n",
      "{'value': 'MAY NHA BE_100', 'text': 'MAY NHA BE_100'}\n",
      "{'value': 'MAY NHA BE_50', 'text': 'MAY NHA BE_50'}\n",
      "{'value': 'NGUYEN BINH', 'text': 'NGUYEN BINH'}\n",
      "{'value': 'NGUYEN HUU HAO_1', 'text': 'NGUYEN HUU HAO_1'}\n",
      "{'value': 'NGUYEN HUU HAO_2', 'text': 'NGUYEN HUU HAO_2'}\n",
      "{'value': 'NGUYEN THAN HIEN', 'text': 'NGUYEN THAN HIEN'}\n",
      "{'value': 'NGUYEN TRUONG TO', 'text': 'NGUYEN TRUONG TO'}\n",
      "{'value': 'NGUYENBINH_HUYNHTANPHAT', 'text': 'NGUYENBINH_HUYNHTANPHAT'}\n",
      "{'value': 'nguyenbinh_letrai', 'text': 'NGUYỄN BÌNH'}\n",
      "{'value': 'NHTho_PHLau', 'text': 'NHTho_PHLau'}\n",
      "{'value': 'NHTho_PHLau (ÐC)', 'text': 'NHTho_PHLau (ĐC)'}\n",
      "{'value': 'NTT_XOM CHIEU', 'text': 'NTT_XOM CHIEU'}\n",
      "{'value': 'NVLinh_NLBang', 'text': 'NVLinh_NLBang'}\n",
      "{'value': 'NVLinh_NLBang (ÐC)', 'text': 'NVLinh_NLBang (ĐC)'}\n",
      "{'value': 'PHU XUAN', 'text': 'PHU XUAN'}\n",
      "{'value': 'SADECO_PHUOC KIEN', 'text': 'SADECO_PHUOC KIEN'}\n",
      "{'value': 'TAN HUNG', 'text': 'KDC TÂN HƯNG'}\n",
      "{'value': 'TAN MY', 'text': 'TAN MY'}\n",
      "{'value': 'TAN QUI DONG 1', 'text': 'TAN QUI DONG 1'}\n",
      "{'value': 'TAN QUY DONG 2', 'text': 'TAN QUY DONG 2'}\n",
      "{'value': 'TIEU VUNG 1', 'text': 'TIEU VUNG 1'}\n",
      "{'value': 'tieuvung_9', 'text': 'Tieu Vung 9'}\n",
      "{'value': 'TON DAN-TON THAT THUYET', 'text': 'TON DAN-TON THAT THUYET_LT'}\n",
      "{'value': 'TONDAN-TONTHATTHUYET_LP', 'text': 'TONDAN-TONTHATTHUYET_LP'}\n",
      "{'value': 'TRAN TRONG CUNG', 'text': 'TRAN TRONG CUNG'}\n",
      "{'value': 'TRAN VAN KHANH', 'text': 'TRAN VAN KHANH'}\n",
      "{'value': 'TRUNG DOAN 10', 'text': 'TRUNG DOAN 10'}\n",
      "{'value': 'VAN PHAT HUNG', 'text': 'KDC VAN PHAT HUNG'}\n",
      "{'value': 'VILLAGE STAR', 'text': 'VILLAGE STAR'}\n",
      "{'value': 'VINAFREIGHT', 'text': 'VINAFREIGHT'}\n",
      "{'value': 'VINALINK', 'text': 'VINALINK'}\n",
      "{'value': 'VINH HOI - TON DAN', 'text': 'VINH HOI - TON DAN'}\n",
      "{'value': 'VINH KHANH_HOANG DIEU', 'text': 'VINH KHANH_HOANG DIEU'}\n",
      "{'value': 'VinhHoi-KhanhHoi', 'text': 'VinhHoi-KhanhHoi'}\n",
      "{'value': 'Vuon uom BOO', 'text': 'VUON UOM BOO'}\n",
      "{'value': 'Vuon uom BOO (ÐC)', 'text': 'Vuon uom BOO (ĐC)'}\n",
      "{'value': 'Vuon uom Tan Thuan', 'text': 'Vuon uom Tan Thuan'}\n",
      "{'value': 'Vuon uom Tan Thuan (ÐC)', 'text': 'Vuon uom Tan Thuan (ĐC)'}\n",
      "{'value': 'ÐH NGUYEN TAT THANH', 'text': 'ĐH NGUYEN TAT THANH'}\n",
      "{'value': 'ÐH TON DUC THANG', 'text': 'ĐH TON DUC THANG'}\n"
     ]
    }
   ],
   "source": [
    "for i in locations:\n",
    "    print(i)"
   ]
  },
  {
   "cell_type": "code",
   "execution_count": 4,
   "metadata": {},
   "outputs": [
    {
     "name": "stdout",
     "output_type": "stream",
     "text": [
      "\n",
      "Locating '102 LE QUOC HUNG' ...\n",
      "OK.\n",
      "Waited successfully in 2.6 sec.\n"
     ]
    }
   ],
   "source": [
    "for i, loc in enumerate(XNTD):\n",
    "    print(\"\\nLocating '{}' ...\".format(loc))\n",
    "    if loc not in [item['value'] for item in locations] and \\\n",
    "            loc not in [item['text'] for item in locations]:\n",
    "        print(\"** '{}' not found.\".format(loc))\n",
    "        continue\n",
    "    if select_a_location(driver, len(locations), loc):\n",
    "        print(\"OK.\")\n",
    "        table_wait = TableWait(driver, timeout=30)\n",
    "        try:\n",
    "            with table_wait:\n",
    "                pass\n",
    "        except Exception as msg:\n",
    "            print(\"** Omitting '{}': {}\".format(str(loc), msg))\n",
    "            continue\n",
    "        driver.save_screenshot('screenshoot_{}_{}.png'.format(i, loc))\n"
   ]
  },
  {
   "cell_type": "code",
   "execution_count": 5,
   "metadata": {},
   "outputs": [
    {
     "name": "stdout",
     "output_type": "stream",
     "text": [
      "  --> 102 LE QUOC HUNG\n"
     ]
    }
   ],
   "source": [
    "# scrape_table_per_location(driver)\n",
    "\n",
    "element = driver.find_element_by_xpath(\n",
    "    \"//*[@id='ctl00_ContentPlaceHolder1_ucDailyReportConsumer_grv_ctl00__0']/td[2]\")\n",
    "print(\"  --> \" + element.text)\n",
    "\n",
    "\n",
    "# driver.close()"
   ]
  },
  {
   "cell_type": "code",
   "execution_count": 64,
   "metadata": {},
   "outputs": [
    {
     "name": "stdout",
     "output_type": "stream",
     "text": [
      "Inside of scrape_table_per_location()\n"
     ]
    }
   ],
   "source": [
    "from bs4 import BeautifulSoup\n",
    "\n",
    "print(\"Inside of scrape_table_per_location()\")\n",
    "tbody_elem = driver.find_element_by_xpath(\"//table[@id='ctl00_ContentPlaceHolder1_ucDailyReportConsumer_grv_ctl00']/tbody\")\n",
    "tbody_src = tbody_elem.get_attribute('innerHTML')\n",
    "soup = BeautifulSoup(tbody_src, 'html.parser')\n"
   ]
  },
  {
   "cell_type": "code",
   "execution_count": 20,
   "metadata": {},
   "outputs": [
    {
     "name": "stdout",
     "output_type": "stream",
     "text": [
      "[<tr class=\"rgRow\" id=\"ctl00_ContentPlaceHolder1_ucDailyReportConsumer_grv_ctl00__0\" style=\"text-align:center;\">\n",
      "<td>01/09/2017</td><td align=\"left\">102 LE QUOC HUNG</td><td>\n",
      "<table cellpadding=\"0\" cellspacing=\"0\" width=\"100%\">\n",
      "<tbody><tr>\n",
      "<td>\n",
      "                                                        41.10\n",
      "                                                    </td>\n",
      "<td>\n",
      "                                                        30.96\n",
      "                                                    </td>\n",
      "<td>\n",
      "                                                        16.20\n",
      "                                                    </td>\n",
      "</tr>\n",
      "</tbody></table>\n",
      "</td><td>743.10</td><td>\n",
      "<table cellpadding=\"0\" cellspacing=\"0\" width=\"100%\">\n",
      "<tbody><tr>\n",
      "<td>\n",
      "                                                        23.40\n",
      "                                                    </td>\n",
      "<td>\n",
      "                                                        17.60\n",
      "                                                    </td>\n",
      "<td>\n",
      "                                                        13.90\n",
      "                                                    </td>\n",
      "</tr>\n",
      "</tbody></table>\n",
      "</td><td>\n",
      "<a href=\"#\" id=\"ctl00_ContentPlaceHolder1_ucDailyReportConsumer_grv_ctl00_ctl04_lnkChart\" onclick=\"return ShowChartFormDaily('102 LE QUOC HUNG','42979','sawaco','0');\">Đồ thị</a>\n",
      "                                            |\n",
      "                                            <a href=\"#\" id=\"ctl00_ContentPlaceHolder1_ucDailyReportConsumer_grv_ctl00_ctl04_lnkTable\" onclick=\"return ShowTableForm('102 LE QUOC HUNG','42979','0');\">Bảng</a>\n",
      "</td>\n",
      "</tr>, <tr>\n",
      "<td>\n",
      "                                                        41.10\n",
      "                                                    </td>\n",
      "<td>\n",
      "                                                        30.96\n",
      "                                                    </td>\n",
      "<td>\n",
      "                                                        16.20\n",
      "                                                    </td>\n",
      "</tr>, <tr>\n",
      "<td>\n",
      "                                                        23.40\n",
      "                                                    </td>\n",
      "<td>\n",
      "                                                        17.60\n",
      "                                                    </td>\n",
      "<td>\n",
      "                                                        13.90\n",
      "                                                    </td>\n",
      "</tr>, <tr class=\"rgAltRow\" id=\"ctl00_ContentPlaceHolder1_ucDailyReportConsumer_grv_ctl00__1\" style=\"text-align:center;\">\n",
      "<td>02/09/2017</td><td align=\"left\">102 LE QUOC HUNG</td><td>\n",
      "<table cellpadding=\"0\" cellspacing=\"0\" width=\"100%\">\n",
      "<tbody><tr>\n",
      "<td>\n",
      "                                                        40.80\n",
      "                                                    </td>\n",
      "<td>\n",
      "                                                        31.91\n",
      "                                                    </td>\n",
      "<td>\n",
      "                                                        17.90\n",
      "                                                    </td>\n",
      "</tr>\n",
      "</tbody></table>\n",
      "</td><td>765.90</td><td>\n",
      "<table cellpadding=\"0\" cellspacing=\"0\" width=\"100%\">\n",
      "<tbody><tr>\n",
      "<td>\n",
      "                                                        24.60\n",
      "                                                    </td>\n",
      "<td>\n",
      "                                                        18.29\n",
      "                                                    </td>\n",
      "<td>\n",
      "                                                        15.10\n",
      "                                                    </td>\n",
      "</tr>\n",
      "</tbody></table>\n",
      "</td><td>\n",
      "<a href=\"#\" id=\"ctl00_ContentPlaceHolder1_ucDailyReportConsumer_grv_ctl00_ctl06_lnkChart\" onclick=\"return ShowChartFormDaily('102 LE QUOC HUNG','42980','sawaco','1');\">Đồ thị</a>\n",
      "                                            |\n",
      "                                            <a href=\"#\" id=\"ctl00_ContentPlaceHolder1_ucDailyReportConsumer_grv_ctl00_ctl06_lnkTable\" onclick=\"return ShowTableForm('102 LE QUOC HUNG','42980','1');\">Bảng</a>\n",
      "</td>\n",
      "</tr>, <tr>\n",
      "<td>\n",
      "                                                        40.80\n",
      "                                                    </td>\n",
      "<td>\n",
      "                                                        31.91\n",
      "                                                    </td>\n",
      "<td>\n",
      "                                                        17.90\n",
      "                                                    </td>\n",
      "</tr>, <tr>\n",
      "<td>\n",
      "                                                        24.60\n",
      "                                                    </td>\n",
      "<td>\n",
      "                                                        18.29\n",
      "                                                    </td>\n",
      "<td>\n",
      "                                                        15.10\n",
      "                                                    </td>\n",
      "</tr>, <tr class=\"rgRow\" id=\"ctl00_ContentPlaceHolder1_ucDailyReportConsumer_grv_ctl00__2\" style=\"text-align:center;\">\n",
      "<td>03/09/2017</td><td align=\"left\">102 LE QUOC HUNG</td><td>\n",
      "<table cellpadding=\"0\" cellspacing=\"0\" width=\"100%\">\n",
      "<tbody><tr>\n",
      "<td>\n",
      "                                                        43.80\n",
      "                                                    </td>\n",
      "<td>\n",
      "                                                        31.73\n",
      "                                                    </td>\n",
      "<td>\n",
      "                                                        14.30\n",
      "                                                    </td>\n",
      "</tr>\n",
      "</tbody></table>\n",
      "</td><td>761.60</td><td>\n",
      "<table cellpadding=\"0\" cellspacing=\"0\" width=\"100%\">\n",
      "<tbody><tr>\n",
      "<td>\n",
      "                                                        25.00\n",
      "                                                    </td>\n",
      "<td>\n",
      "                                                        19.61\n",
      "                                                    </td>\n",
      "<td>\n",
      "                                                        16.40\n",
      "                                                    </td>\n",
      "</tr>\n",
      "</tbody></table>\n",
      "</td><td>\n",
      "<a href=\"#\" id=\"ctl00_ContentPlaceHolder1_ucDailyReportConsumer_grv_ctl00_ctl08_lnkChart\" onclick=\"return ShowChartFormDaily('102 LE QUOC HUNG','42981','sawaco','2');\">Đồ thị</a>\n",
      "                                            |\n",
      "                                            <a href=\"#\" id=\"ctl00_ContentPlaceHolder1_ucDailyReportConsumer_grv_ctl00_ctl08_lnkTable\" onclick=\"return ShowTableForm('102 LE QUOC HUNG','42981','2');\">Bảng</a>\n",
      "</td>\n",
      "</tr>, <tr>\n",
      "<td>\n",
      "                                                        43.80\n",
      "                                                    </td>\n",
      "<td>\n",
      "                                                        31.73\n",
      "                                                    </td>\n",
      "<td>\n",
      "                                                        14.30\n",
      "                                                    </td>\n",
      "</tr>, <tr>\n",
      "<td>\n",
      "                                                        25.00\n",
      "                                                    </td>\n",
      "<td>\n",
      "                                                        19.61\n",
      "                                                    </td>\n",
      "<td>\n",
      "                                                        16.40\n",
      "                                                    </td>\n",
      "</tr>, <tr class=\"rgAltRow\" id=\"ctl00_ContentPlaceHolder1_ucDailyReportConsumer_grv_ctl00__3\" style=\"text-align:center;\">\n",
      "<td>04/09/2017</td><td align=\"left\">102 LE QUOC HUNG</td><td>\n",
      "<table cellpadding=\"0\" cellspacing=\"0\" width=\"100%\">\n",
      "<tbody><tr>\n",
      "<td>\n",
      "                                                        44.20\n",
      "                                                    </td>\n",
      "<td>\n",
      "                                                        31.52\n",
      "                                                    </td>\n",
      "<td>\n",
      "                                                        15.30\n",
      "                                                    </td>\n",
      "</tr>\n",
      "</tbody></table>\n",
      "</td><td>756.40</td><td>\n",
      "<table cellpadding=\"0\" cellspacing=\"0\" width=\"100%\">\n",
      "<tbody><tr>\n",
      "<td>\n",
      "                                                        24.60\n",
      "                                                    </td>\n",
      "<td>\n",
      "                                                        19.22\n",
      "                                                    </td>\n",
      "<td>\n",
      "                                                        15.70\n",
      "                                                    </td>\n",
      "</tr>\n",
      "</tbody></table>\n",
      "</td><td>\n",
      "<a href=\"#\" id=\"ctl00_ContentPlaceHolder1_ucDailyReportConsumer_grv_ctl00_ctl10_lnkChart\" onclick=\"return ShowChartFormDaily('102 LE QUOC HUNG','42982','sawaco','3');\">Đồ thị</a>\n",
      "                                            |\n",
      "                                            <a href=\"#\" id=\"ctl00_ContentPlaceHolder1_ucDailyReportConsumer_grv_ctl00_ctl10_lnkTable\" onclick=\"return ShowTableForm('102 LE QUOC HUNG','42982','3');\">Bảng</a>\n",
      "</td>\n",
      "</tr>, <tr>\n",
      "<td>\n",
      "                                                        44.20\n",
      "                                                    </td>\n",
      "<td>\n",
      "                                                        31.52\n",
      "                                                    </td>\n",
      "<td>\n",
      "                                                        15.30\n",
      "                                                    </td>\n",
      "</tr>, <tr>\n",
      "<td>\n",
      "                                                        24.60\n",
      "                                                    </td>\n",
      "<td>\n",
      "                                                        19.22\n",
      "                                                    </td>\n",
      "<td>\n",
      "                                                        15.70\n",
      "                                                    </td>\n",
      "</tr>, <tr class=\"rgRow\" id=\"ctl00_ContentPlaceHolder1_ucDailyReportConsumer_grv_ctl00__4\" style=\"text-align:center;\">\n",
      "<td>05/09/2017</td><td align=\"left\">102 LE QUOC HUNG</td><td>\n",
      "<table cellpadding=\"0\" cellspacing=\"0\" width=\"100%\">\n",
      "<tbody><tr>\n",
      "<td>\n",
      "                                                        40.30\n",
      "                                                    </td>\n",
      "<td>\n",
      "                                                        31.72\n",
      "                                                    </td>\n",
      "<td>\n",
      "                                                        15.10\n",
      "                                                    </td>\n",
      "</tr>\n",
      "</tbody></table>\n",
      "</td><td>761.20</td><td>\n",
      "<table cellpadding=\"0\" cellspacing=\"0\" width=\"100%\">\n",
      "<tbody><tr>\n",
      "<td>\n",
      "                                                        23.40\n",
      "                                                    </td>\n",
      "<td>\n",
      "                                                        17.65\n",
      "                                                    </td>\n",
      "<td>\n",
      "                                                        14.20\n",
      "                                                    </td>\n",
      "</tr>\n",
      "</tbody></table>\n",
      "</td><td>\n",
      "<a href=\"#\" id=\"ctl00_ContentPlaceHolder1_ucDailyReportConsumer_grv_ctl00_ctl12_lnkChart\" onclick=\"return ShowChartFormDaily('102 LE QUOC HUNG','42983','sawaco','4');\">Đồ thị</a>\n",
      "                                            |\n",
      "                                            <a href=\"#\" id=\"ctl00_ContentPlaceHolder1_ucDailyReportConsumer_grv_ctl00_ctl12_lnkTable\" onclick=\"return ShowTableForm('102 LE QUOC HUNG','42983','4');\">Bảng</a>\n",
      "</td>\n",
      "</tr>, <tr>\n",
      "<td>\n",
      "                                                        40.30\n",
      "                                                    </td>\n",
      "<td>\n",
      "                                                        31.72\n",
      "                                                    </td>\n",
      "<td>\n",
      "                                                        15.10\n",
      "                                                    </td>\n",
      "</tr>, <tr>\n",
      "<td>\n",
      "                                                        23.40\n",
      "                                                    </td>\n",
      "<td>\n",
      "                                                        17.65\n",
      "                                                    </td>\n",
      "<td>\n",
      "                                                        14.20\n",
      "                                                    </td>\n",
      "</tr>]\n"
     ]
    }
   ],
   "source": [
    "rows = soup.find_all('tr')\n",
    "print(rows)"
   ]
  },
  {
   "cell_type": "code",
   "execution_count": 65,
   "metadata": {},
   "outputs": [
    {
     "name": "stdout",
     "output_type": "stream",
     "text": [
      "['01/09/2017', '102 LE QUOC HUNG', '41.10                                                                                                            30.96                                                                                                            16.20', '41.10', '30.96', '16.20', '743.10', '23.40                                                                                                            17.60                                                                                                            13.90', '23.40', '17.60', '13.90', 'Đồ thị                                            |                                            Bảng']\n"
     ]
    }
   ],
   "source": [
    "data = []\n",
    "for row in soup.find_all('tr'):\n",
    "    row_data = [td.get_text() for td in row.find_all('td')]\n",
    "    row_data = [t.replace('\\n', '').strip() for t in row_data]  # stripping\n",
    "#     row_data = [row_data[i-1] for i in (1, 2, 4, 5, 6, 7, 9, 10, 11)]  # columns of interest, 1-base, from R\n",
    "    data.append(row_data)\n",
    "print(data[0])"
   ]
  },
  {
   "cell_type": "code",
   "execution_count": 76,
   "metadata": {},
   "outputs": [
    {
     "data": {
      "text/plain": [
       "['03/09/2017',\n",
       " '102 LE QUOC HUNG',\n",
       " '43.80                                                                                                            31.73                                                                                                            14.30',\n",
       " '43.80',\n",
       " '31.73',\n",
       " '14.30',\n",
       " '761.60',\n",
       " '25.00                                                                                                            19.61                                                                                                            16.40',\n",
       " '25.00',\n",
       " '19.61',\n",
       " '16.40',\n",
       " 'Đồ thị                                            |                                            Bảng']"
      ]
     },
     "execution_count": 76,
     "metadata": {},
     "output_type": "execute_result"
    }
   ],
   "source": [
    "a = data[6]\n",
    "a"
   ]
  },
  {
   "cell_type": "code",
   "execution_count": 77,
   "metadata": {},
   "outputs": [
    {
     "data": {
      "text/plain": [
       "['03/09/2017',\n",
       " '102 LE QUOC HUNG',\n",
       " '43.80',\n",
       " '31.73',\n",
       " '14.30',\n",
       " '761.60',\n",
       " '25.00',\n",
       " '19.61',\n",
       " '16.40']"
      ]
     },
     "execution_count": 77,
     "metadata": {},
     "output_type": "execute_result"
    }
   ],
   "source": [
    "[a[i-1] for i in (1, 2, 4, 5, 6, 7, 9, 10, 11)]"
   ]
  },
  {
   "cell_type": "code",
   "execution_count": 83,
   "metadata": {},
   "outputs": [
    {
     "name": "stdout",
     "output_type": "stream",
     "text": [
      "7\n"
     ]
    },
    {
     "data": {
      "text/plain": [
       "['Lưu lượng (m3/h)']"
      ]
     },
     "execution_count": 83,
     "metadata": {},
     "output_type": "execute_result"
    }
   ],
   "source": [
    "soup2 = BeautifulSoup(driver.page_source, 'html.parser')\n",
    "table = soup2.find(\"table\", attrs={\"class\": \"rgMasterTable\"})\n",
    "# table = table.find_all(\"tbody\")\n",
    "print(len(table))\n",
    "data = []\n",
    "for row in table.find_all('tr'):\n",
    "    row_data = [td.get_text().replace('\\n', '').strip() for td in row.find_all('td')]\n",
    "    data.append(row_data)\n",
    "data[0]\n",
    "data[1]\n",
    "# data[7]"
   ]
  },
  {
   "cell_type": "code",
   "execution_count": 84,
   "metadata": {
    "collapsed": true
   },
   "outputs": [],
   "source": [
    "retained_columns = (1, 2, 4, 5, 6, 7, 9, 10, 11) "
   ]
  },
  {
   "cell_type": "code",
   "execution_count": 85,
   "metadata": {},
   "outputs": [
    {
     "data": {
      "text/plain": [
       "11"
      ]
     },
     "execution_count": 85,
     "metadata": {},
     "output_type": "execute_result"
    }
   ],
   "source": [
    "max(retained_columns)"
   ]
  },
  {
   "cell_type": "code",
   "execution_count": 86,
   "metadata": {},
   "outputs": [
    {
     "ename": "TypeError",
     "evalue": "unsupported operand type(s) for -: 'tuple' and 'int'",
     "output_type": "error",
     "traceback": [
      "\u001b[1;31m---------------------------------------------------------------------------\u001b[0m",
      "\u001b[1;31mTypeError\u001b[0m                                 Traceback (most recent call last)",
      "\u001b[1;32m<ipython-input-86-77e1dc1f568d>\u001b[0m in \u001b[0;36m<module>\u001b[1;34m()\u001b[0m\n\u001b[1;32m----> 1\u001b[1;33m \u001b[0mretained_columns\u001b[0m \u001b[1;33m-\u001b[0m \u001b[1;36m1\u001b[0m\u001b[1;33m\u001b[0m\u001b[0m\n\u001b[0m",
      "\u001b[1;31mTypeError\u001b[0m: unsupported operand type(s) for -: 'tuple' and 'int'"
     ]
    }
   ],
   "source": [
    "retained_columns - 1\n"
   ]
  },
  {
   "cell_type": "code",
   "execution_count": 132,
   "metadata": {},
   "outputs": [
    {
     "name": "stdout",
     "output_type": "stream",
     "text": [
      "[['01/09/2017', '102 LE QUOC HUNG', '41.10', '30.96', '16.20', '743.10', '23.40', '17.60', '13.90'], ['02/09/2017', '102 LE QUOC HUNG', '40.80', '31.91', '17.90', '765.90', '24.60', '18.29', '15.10'], ['03/09/2017', '102 LE QUOC HUNG', '43.80', '31.73', '14.30', '761.60', '25.00', '19.61', '16.40'], ['04/09/2017', '102 LE QUOC HUNG', '44.20', '31.52', '15.30', '756.40', '24.60', '19.22', '15.70'], ['05/09/2017', '102 LE QUOC HUNG', '40.30', '31.72', '15.10', '761.20', '23.40', '17.65', '14.20']]\n"
     ]
    }
   ],
   "source": [
    "tbody_elem = driver.find_element_by_xpath(\"//table[@id='ctl00_ContentPlaceHolder1_ucDailyReportConsumer_grv_ctl00']/tbody\")\n",
    "tbody_src = tbody_elem.get_attribute('innerHTML')\n",
    "soup = BeautifulSoup(tbody_src, 'html.parser')\n",
    "\n",
    "retained_columns = (0, 1, 3, 4, 5, 6, 8, 9, 10)  # columns of interest, from R\n",
    "data = []\n",
    "for row in soup.find_all('tr'):\n",
    "    row_data = [td.get_text() for td in row.find_all('td')]\n",
    "    if len(row_data) < len(retained_columns):\n",
    "        continue\n",
    "    row_data = [t.replace('\\n', '').strip() for t in row_data]  # stripping\n",
    "    row_data = [row_data[i] for i in retained_columns]\n",
    "    data.append(row_data)\n",
    "print(data)"
   ]
  },
  {
   "cell_type": "code",
   "execution_count": 133,
   "metadata": {},
   "outputs": [
    {
     "data": {
      "text/plain": [
       "5"
      ]
     },
     "execution_count": 133,
     "metadata": {},
     "output_type": "execute_result"
    }
   ],
   "source": [
    "len(data)"
   ]
  },
  {
   "cell_type": "code",
   "execution_count": 135,
   "metadata": {
    "collapsed": true
   },
   "outputs": [],
   "source": [
    "import pandas as pd\n",
    "headers = [\"DATE\", \"LOCATION\", \"FLOW_MAX\", \"FLOW_AVG\", \"FLOW_MIN\",\n",
    "           \"VOLUME\", \"PRESS_MAX\", \"PRESS_AVG\", \"PRESS_MIN\"]"
   ]
  },
  {
   "cell_type": "code",
   "execution_count": 137,
   "metadata": {},
   "outputs": [
    {
     "data": {
      "text/html": [
       "<div>\n",
       "<style>\n",
       "    .dataframe thead tr:only-child th {\n",
       "        text-align: right;\n",
       "    }\n",
       "\n",
       "    .dataframe thead th {\n",
       "        text-align: left;\n",
       "    }\n",
       "\n",
       "    .dataframe tbody tr th {\n",
       "        vertical-align: top;\n",
       "    }\n",
       "</style>\n",
       "<table border=\"1\" class=\"dataframe\">\n",
       "  <thead>\n",
       "    <tr style=\"text-align: right;\">\n",
       "      <th></th>\n",
       "      <th>DATE</th>\n",
       "      <th>LOCATION</th>\n",
       "      <th>FLOW_MAX</th>\n",
       "      <th>FLOW_AVG</th>\n",
       "      <th>FLOW_MIN</th>\n",
       "      <th>VOLUME</th>\n",
       "      <th>PRESS_MAX</th>\n",
       "      <th>PRESS_AVG</th>\n",
       "      <th>PRESS_MIN</th>\n",
       "    </tr>\n",
       "  </thead>\n",
       "  <tbody>\n",
       "    <tr>\n",
       "      <th>0</th>\n",
       "      <td>01/09/2017</td>\n",
       "      <td>102 LE QUOC HUNG</td>\n",
       "      <td>41.10</td>\n",
       "      <td>30.96</td>\n",
       "      <td>16.20</td>\n",
       "      <td>743.10</td>\n",
       "      <td>23.40</td>\n",
       "      <td>17.60</td>\n",
       "      <td>13.90</td>\n",
       "    </tr>\n",
       "    <tr>\n",
       "      <th>1</th>\n",
       "      <td>02/09/2017</td>\n",
       "      <td>102 LE QUOC HUNG</td>\n",
       "      <td>40.80</td>\n",
       "      <td>31.91</td>\n",
       "      <td>17.90</td>\n",
       "      <td>765.90</td>\n",
       "      <td>24.60</td>\n",
       "      <td>18.29</td>\n",
       "      <td>15.10</td>\n",
       "    </tr>\n",
       "    <tr>\n",
       "      <th>2</th>\n",
       "      <td>03/09/2017</td>\n",
       "      <td>102 LE QUOC HUNG</td>\n",
       "      <td>43.80</td>\n",
       "      <td>31.73</td>\n",
       "      <td>14.30</td>\n",
       "      <td>761.60</td>\n",
       "      <td>25.00</td>\n",
       "      <td>19.61</td>\n",
       "      <td>16.40</td>\n",
       "    </tr>\n",
       "    <tr>\n",
       "      <th>3</th>\n",
       "      <td>04/09/2017</td>\n",
       "      <td>102 LE QUOC HUNG</td>\n",
       "      <td>44.20</td>\n",
       "      <td>31.52</td>\n",
       "      <td>15.30</td>\n",
       "      <td>756.40</td>\n",
       "      <td>24.60</td>\n",
       "      <td>19.22</td>\n",
       "      <td>15.70</td>\n",
       "    </tr>\n",
       "    <tr>\n",
       "      <th>4</th>\n",
       "      <td>05/09/2017</td>\n",
       "      <td>102 LE QUOC HUNG</td>\n",
       "      <td>40.30</td>\n",
       "      <td>31.72</td>\n",
       "      <td>15.10</td>\n",
       "      <td>761.20</td>\n",
       "      <td>23.40</td>\n",
       "      <td>17.65</td>\n",
       "      <td>14.20</td>\n",
       "    </tr>\n",
       "  </tbody>\n",
       "</table>\n",
       "</div>"
      ],
      "text/plain": [
       "         DATE          LOCATION FLOW_MAX FLOW_AVG FLOW_MIN  VOLUME PRESS_MAX  \\\n",
       "0  01/09/2017  102 LE QUOC HUNG    41.10    30.96    16.20  743.10     23.40   \n",
       "1  02/09/2017  102 LE QUOC HUNG    40.80    31.91    17.90  765.90     24.60   \n",
       "2  03/09/2017  102 LE QUOC HUNG    43.80    31.73    14.30  761.60     25.00   \n",
       "3  04/09/2017  102 LE QUOC HUNG    44.20    31.52    15.30  756.40     24.60   \n",
       "4  05/09/2017  102 LE QUOC HUNG    40.30    31.72    15.10  761.20     23.40   \n",
       "\n",
       "  PRESS_AVG PRESS_MIN  \n",
       "0     17.60     13.90  \n",
       "1     18.29     15.10  \n",
       "2     19.61     16.40  \n",
       "3     19.22     15.70  \n",
       "4     17.65     14.20  "
      ]
     },
     "execution_count": 137,
     "metadata": {},
     "output_type": "execute_result"
    }
   ],
   "source": [
    "df = pd.DataFrame(data, columns=headers)\n",
    "df"
   ]
  },
  {
   "cell_type": "code",
   "execution_count": 188,
   "metadata": {},
   "outputs": [
    {
     "data": {
      "text/html": [
       "<div>\n",
       "<style>\n",
       "    .dataframe thead tr:only-child th {\n",
       "        text-align: right;\n",
       "    }\n",
       "\n",
       "    .dataframe thead th {\n",
       "        text-align: left;\n",
       "    }\n",
       "\n",
       "    .dataframe tbody tr th {\n",
       "        vertical-align: top;\n",
       "    }\n",
       "</style>\n",
       "<table border=\"1\" class=\"dataframe\">\n",
       "  <thead>\n",
       "    <tr style=\"text-align: right;\">\n",
       "      <th></th>\n",
       "      <th>DATE</th>\n",
       "      <th>LOCATION</th>\n",
       "      <th>FLOW_MAX</th>\n",
       "      <th>FLOW_AVG</th>\n",
       "      <th>FLOW_MIN</th>\n",
       "      <th>VOLUME</th>\n",
       "      <th>PRESS_MAX</th>\n",
       "      <th>PRESS_AVG</th>\n",
       "      <th>PRESS_MIN</th>\n",
       "    </tr>\n",
       "  </thead>\n",
       "  <tbody>\n",
       "    <tr>\n",
       "      <th>0</th>\n",
       "      <td>01/09/2017</td>\n",
       "      <td>102 LE QUOC HUNG</td>\n",
       "      <td>41.10</td>\n",
       "      <td>30.96</td>\n",
       "      <td>16.20</td>\n",
       "      <td>743.10</td>\n",
       "      <td>23.40</td>\n",
       "      <td>17.60</td>\n",
       "      <td>13.90</td>\n",
       "    </tr>\n",
       "    <tr>\n",
       "      <th>1</th>\n",
       "      <td>02/09/2017</td>\n",
       "      <td>102 LE QUOC HUNG</td>\n",
       "      <td>40.80</td>\n",
       "      <td>31.91</td>\n",
       "      <td>17.90</td>\n",
       "      <td>765.90</td>\n",
       "      <td>24.60</td>\n",
       "      <td>18.29</td>\n",
       "      <td>15.10</td>\n",
       "    </tr>\n",
       "  </tbody>\n",
       "</table>\n",
       "</div>"
      ],
      "text/plain": [
       "         DATE          LOCATION FLOW_MAX FLOW_AVG FLOW_MIN  VOLUME PRESS_MAX  \\\n",
       "0  01/09/2017  102 LE QUOC HUNG    41.10    30.96    16.20  743.10     23.40   \n",
       "1  02/09/2017  102 LE QUOC HUNG    40.80    31.91    17.90  765.90     24.60   \n",
       "\n",
       "  PRESS_AVG PRESS_MIN  \n",
       "0     17.60     13.90  \n",
       "1     18.29     15.10  "
      ]
     },
     "execution_count": 188,
     "metadata": {},
     "output_type": "execute_result"
    }
   ],
   "source": [
    "df[0:2]"
   ]
  },
  {
   "cell_type": "code",
   "execution_count": 189,
   "metadata": {},
   "outputs": [
    {
     "data": {
      "text/html": [
       "<div>\n",
       "<style>\n",
       "    .dataframe thead tr:only-child th {\n",
       "        text-align: right;\n",
       "    }\n",
       "\n",
       "    .dataframe thead th {\n",
       "        text-align: left;\n",
       "    }\n",
       "\n",
       "    .dataframe tbody tr th {\n",
       "        vertical-align: top;\n",
       "    }\n",
       "</style>\n",
       "<table border=\"1\" class=\"dataframe\">\n",
       "  <thead>\n",
       "    <tr style=\"text-align: right;\">\n",
       "      <th></th>\n",
       "      <th>LOCATION</th>\n",
       "      <th>VOLUME</th>\n",
       "    </tr>\n",
       "  </thead>\n",
       "  <tbody>\n",
       "    <tr>\n",
       "      <th>0</th>\n",
       "      <td>102 LE QUOC HUNG</td>\n",
       "      <td>743.10</td>\n",
       "    </tr>\n",
       "    <tr>\n",
       "      <th>1</th>\n",
       "      <td>102 LE QUOC HUNG</td>\n",
       "      <td>765.90</td>\n",
       "    </tr>\n",
       "    <tr>\n",
       "      <th>2</th>\n",
       "      <td>102 LE QUOC HUNG</td>\n",
       "      <td>761.60</td>\n",
       "    </tr>\n",
       "    <tr>\n",
       "      <th>3</th>\n",
       "      <td>102 LE QUOC HUNG</td>\n",
       "      <td>756.40</td>\n",
       "    </tr>\n",
       "    <tr>\n",
       "      <th>4</th>\n",
       "      <td>102 LE QUOC HUNG</td>\n",
       "      <td>761.20</td>\n",
       "    </tr>\n",
       "  </tbody>\n",
       "</table>\n",
       "</div>"
      ],
      "text/plain": [
       "           LOCATION  VOLUME\n",
       "0  102 LE QUOC HUNG  743.10\n",
       "1  102 LE QUOC HUNG  765.90\n",
       "2  102 LE QUOC HUNG  761.60\n",
       "3  102 LE QUOC HUNG  756.40\n",
       "4  102 LE QUOC HUNG  761.20"
      ]
     },
     "execution_count": 189,
     "metadata": {},
     "output_type": "execute_result"
    }
   ],
   "source": [
    "df[['LOCATION', 'VOLUME']]"
   ]
  },
  {
   "cell_type": "code",
   "execution_count": 435,
   "metadata": {},
   "outputs": [
    {
     "name": "stdout",
     "output_type": "stream",
     "text": [
      "[['01/09/2017', '102 LE QUOC HUNG', '41.10', '30.96', '16.20', '743.10', '23.40', '17.60', '13.90'], ['02/09/2017', '102 LE QUOC HUNG', '40.80', '31.91', '17.90', '765.90', '24.60', '18.29', '15.10'], ['03/09/2017', '102 LE QUOC HUNG', '43.80', '31.73', '14.30', '761.60', '25.00', '19.61', '16.40'], ['04/09/2017', '102 LE QUOC HUNG', '44.20', '31.52', '15.30', '756.40', '24.60', '19.22', '15.70'], ['05/09/2017', '102 LE QUOC HUNG', '40.30', '31.72', '15.10', '761.20', '23.40', '17.65', '14.20']]\n",
      "5\n"
     ]
    },
    {
     "data": {
      "text/html": [
       "<div>\n",
       "<style>\n",
       "    .dataframe thead tr:only-child th {\n",
       "        text-align: right;\n",
       "    }\n",
       "\n",
       "    .dataframe thead th {\n",
       "        text-align: left;\n",
       "    }\n",
       "\n",
       "    .dataframe tbody tr th {\n",
       "        vertical-align: top;\n",
       "    }\n",
       "</style>\n",
       "<table border=\"1\" class=\"dataframe\">\n",
       "  <thead>\n",
       "    <tr style=\"text-align: right;\">\n",
       "      <th></th>\n",
       "      <th>DATE</th>\n",
       "      <th>LOCATION</th>\n",
       "      <th>FLOW_MAX</th>\n",
       "      <th>FLOW_AVG</th>\n",
       "      <th>FLOW_MIN</th>\n",
       "      <th>VOLUME</th>\n",
       "      <th>PRESS_MAX</th>\n",
       "      <th>PRESS_AVG</th>\n",
       "      <th>PRESS_MIN</th>\n",
       "    </tr>\n",
       "  </thead>\n",
       "  <tbody>\n",
       "    <tr>\n",
       "      <th>0</th>\n",
       "      <td>01/09/2017</td>\n",
       "      <td>102 LE QUOC HUNG</td>\n",
       "      <td>41.10</td>\n",
       "      <td>30.96</td>\n",
       "      <td>16.20</td>\n",
       "      <td>743.10</td>\n",
       "      <td>23.40</td>\n",
       "      <td>17.60</td>\n",
       "      <td>13.90</td>\n",
       "    </tr>\n",
       "    <tr>\n",
       "      <th>1</th>\n",
       "      <td>02/09/2017</td>\n",
       "      <td>102 LE QUOC HUNG</td>\n",
       "      <td>40.80</td>\n",
       "      <td>31.91</td>\n",
       "      <td>17.90</td>\n",
       "      <td>765.90</td>\n",
       "      <td>24.60</td>\n",
       "      <td>18.29</td>\n",
       "      <td>15.10</td>\n",
       "    </tr>\n",
       "    <tr>\n",
       "      <th>2</th>\n",
       "      <td>03/09/2017</td>\n",
       "      <td>102 LE QUOC HUNG</td>\n",
       "      <td>43.80</td>\n",
       "      <td>31.73</td>\n",
       "      <td>14.30</td>\n",
       "      <td>761.60</td>\n",
       "      <td>25.00</td>\n",
       "      <td>19.61</td>\n",
       "      <td>16.40</td>\n",
       "    </tr>\n",
       "    <tr>\n",
       "      <th>3</th>\n",
       "      <td>04/09/2017</td>\n",
       "      <td>102 LE QUOC HUNG</td>\n",
       "      <td>44.20</td>\n",
       "      <td>31.52</td>\n",
       "      <td>15.30</td>\n",
       "      <td>756.40</td>\n",
       "      <td>24.60</td>\n",
       "      <td>19.22</td>\n",
       "      <td>15.70</td>\n",
       "    </tr>\n",
       "    <tr>\n",
       "      <th>4</th>\n",
       "      <td>05/09/2017</td>\n",
       "      <td>102 LE QUOC HUNG</td>\n",
       "      <td>40.30</td>\n",
       "      <td>31.72</td>\n",
       "      <td>15.10</td>\n",
       "      <td>761.20</td>\n",
       "      <td>23.40</td>\n",
       "      <td>17.65</td>\n",
       "      <td>14.20</td>\n",
       "    </tr>\n",
       "  </tbody>\n",
       "</table>\n",
       "</div>"
      ],
      "text/plain": [
       "         DATE          LOCATION FLOW_MAX FLOW_AVG FLOW_MIN  VOLUME PRESS_MAX  \\\n",
       "0  01/09/2017  102 LE QUOC HUNG    41.10    30.96    16.20  743.10     23.40   \n",
       "1  02/09/2017  102 LE QUOC HUNG    40.80    31.91    17.90  765.90     24.60   \n",
       "2  03/09/2017  102 LE QUOC HUNG    43.80    31.73    14.30  761.60     25.00   \n",
       "3  04/09/2017  102 LE QUOC HUNG    44.20    31.52    15.30  756.40     24.60   \n",
       "4  05/09/2017  102 LE QUOC HUNG    40.30    31.72    15.10  761.20     23.40   \n",
       "\n",
       "  PRESS_AVG PRESS_MIN  \n",
       "0     17.60     13.90  \n",
       "1     18.29     15.10  \n",
       "2     19.61     16.40  \n",
       "3     19.22     15.70  \n",
       "4     17.65     14.20  "
      ]
     },
     "execution_count": 435,
     "metadata": {},
     "output_type": "execute_result"
    }
   ],
   "source": [
    "soup = BeautifulSoup(driver.page_source, 'html.parser')\n",
    "soup = soup.find(\"table\", attrs={\"class\": \"rgMasterTable\"})\n",
    "\n",
    "retained_columns = (0, 1, 3, 4, 5, 6, 8, 9, 10)  # columns of interest, from R\n",
    "data = []\n",
    "for tr in soup.find_all('tr'):\n",
    "    row = [td.get_text() for td in tr.find_all('td')]\n",
    "    if len(row) < len(retained_columns):\n",
    "        continue\n",
    "    row = [' '.join(d.split()) for d in row]  # stripping\n",
    "    row = [row[i] for i in retained_columns]\n",
    "    data.append(row)\n",
    "print(data)\n",
    "print(len(data))\n",
    "\n",
    "import pandas as pd\n",
    "headers = [\"DATE\", \"LOCATION\", \"FLOW_MAX\", \"FLOW_AVG\", \"FLOW_MIN\",\n",
    "           \"VOLUME\", \"PRESS_MAX\", \"PRESS_AVG\", \"PRESS_MIN\"]\n",
    "# headers = [\"date\", \"location\", \"flow_max\", \"flow_avg\", \"flow_min\",\n",
    "#            \"volume\", \"press_max\", \"press_avg\", \"press_min\"]\n",
    "df = pd.DataFrame(data, columns=headers)\n",
    "df"
   ]
  },
  {
   "cell_type": "code",
   "execution_count": 463,
   "metadata": {},
   "outputs": [
    {
     "data": {
      "text/plain": [
       "Index([2017-09-01, 2017-09-02, 2017-09-03, 2017-09-04, 2017-09-05], dtype='object', name='DATE')"
      ]
     },
     "execution_count": 463,
     "metadata": {},
     "output_type": "execute_result"
    }
   ],
   "source": [
    "df2 = df.copy()\n",
    "df2[\"DATE\"] = pd.to_datetime(df2[\"DATE\"], dayfirst=True).dt.date\n",
    "df2 = df2.set_index('DATE')\n",
    "\n",
    "list(map(lambda x: x.strftime(\"%Y-%m-%d\"), [df2.index.min(), df2.index.max()]))\n",
    "\n",
    "# df2.index.min().strftime(\"%Y-%m-%d\")\n",
    "df2.index[0].strftime(\"%Y-%m-%d\")\n",
    "df2.index[-1].strftime(\"%Y-%m-%d\")\n",
    "\n",
    "\n",
    "filename = \"daily__{}__{}__{}.csv\".format(loc,\n",
    "                                          df2.index.min().strftime(\"%Y-%m-%d\"),\n",
    "                                          df2.index.max().strftime(\"%Y-%m-%d\"))\n",
    "\n",
    "# df3 = pd.read_csv(filename, index_col='DATE')\n",
    "\n",
    "df3 = pd.read_csv(filename)\n",
    "df3[\"DATE\"] = pd.to_datetime(df3[\"DATE\"], dayfirst=True).dt.date\n",
    "df3 = df3.set_index('DATE')\n",
    "\n",
    "df3.index\n"
   ]
  },
  {
   "cell_type": "code",
   "execution_count": 506,
   "metadata": {},
   "outputs": [
    {
     "data": {
      "text/plain": [
       "'daily__Vuon uom Tan Thuan (C)__2017-09-01__2017-09-05.csv'"
      ]
     },
     "execution_count": 506,
     "metadata": {},
     "output_type": "execute_result"
    }
   ],
   "source": [
    "import sys\n",
    "sys.getfilesystemencoding()\n",
    "\n",
    "import unicodedata\n",
    "def remove_accents(input_str):\n",
    "#     input_str = input_str.decode('windows-1252')\n",
    "    nkfd_form = unicodedata.normalize('NFKD', input_str)\n",
    "    output_str = \"\".join([c for c in nkfd_form if not unicodedata.combining(c)])\n",
    "    return str(output_str)\n",
    "\n",
    "remove_accents(filename)\n",
    "b = unicodedata.normalize('NFKD', filename).encode('ASCII', 'ignore')\n",
    "b.decode()\n",
    "\n",
    "# ord('Đ')\n",
    "# ord('Ð')\n",
    "# ord('Đ')"
   ]
  },
  {
   "cell_type": "code",
   "execution_count": 500,
   "metadata": {},
   "outputs": [],
   "source": [
    "# filename = \"daily__Vuon uom Tan Thuan (ĐC)__2017-09-01__2017-09-05.csv\"\n",
    "# f = open(filename)\n",
    "# pd.read_csv(filename, index_col='date')\n",
    "f.close()"
   ]
  },
  {
   "cell_type": "code",
   "execution_count": 411,
   "metadata": {},
   "outputs": [
    {
     "name": "stdout",
     "output_type": "stream",
     "text": [
      "0    2017-09-01\n",
      "1    2017-09-02\n",
      "2    2017-09-03\n",
      "3    2017-09-04\n",
      "4    2017-09-05\n",
      "Name: DATE, dtype: object\n"
     ]
    },
    {
     "data": {
      "text/plain": [
       "'2017-09-05'"
      ]
     },
     "execution_count": 411,
     "metadata": {},
     "output_type": "execute_result"
    }
   ],
   "source": [
    "df.DATE = pd.to_datetime(df.DATE, dayfirst=True)\n",
    "df[\"DATE\"] = df[\"DATE\"].dt.date\n",
    "print(df.DATE)\n",
    "max(df[\"DATE\"]).strftime(\"%Y-%m-%d\")\n",
    "# df.DATE.apply(lambda x: x.strftime(\"%Y-%m-%d\"))\n",
    "\n",
    "# print(df.DATE)\n",
    "\n",
    "# df.DATE.dt.strftime(\"%Y-%m-%d\")\n",
    "# df.DATE = df.DATE.dt.date\n",
    "# df.DATE.str\n",
    "\n",
    "# df.iloc[:, 0]"
   ]
  },
  {
   "cell_type": "code",
   "execution_count": 338,
   "metadata": {
    "scrolled": true
   },
   "outputs": [],
   "source": [
    "df = df.set_index('DATE')"
   ]
  },
  {
   "cell_type": "code",
   "execution_count": 339,
   "metadata": {
    "scrolled": true
   },
   "outputs": [
    {
     "data": {
      "text/html": [
       "<div>\n",
       "<style>\n",
       "    .dataframe thead tr:only-child th {\n",
       "        text-align: right;\n",
       "    }\n",
       "\n",
       "    .dataframe thead th {\n",
       "        text-align: left;\n",
       "    }\n",
       "\n",
       "    .dataframe tbody tr th {\n",
       "        vertical-align: top;\n",
       "    }\n",
       "</style>\n",
       "<table border=\"1\" class=\"dataframe\">\n",
       "  <thead>\n",
       "    <tr style=\"text-align: right;\">\n",
       "      <th></th>\n",
       "      <th>LOCATION</th>\n",
       "      <th>FLOW_MAX</th>\n",
       "      <th>FLOW_AVG</th>\n",
       "      <th>FLOW_MIN</th>\n",
       "      <th>VOLUME</th>\n",
       "      <th>PRESS_MAX</th>\n",
       "      <th>PRESS_AVG</th>\n",
       "      <th>PRESS_MIN</th>\n",
       "    </tr>\n",
       "    <tr>\n",
       "      <th>DATE</th>\n",
       "      <th></th>\n",
       "      <th></th>\n",
       "      <th></th>\n",
       "      <th></th>\n",
       "      <th></th>\n",
       "      <th></th>\n",
       "      <th></th>\n",
       "      <th></th>\n",
       "    </tr>\n",
       "  </thead>\n",
       "  <tbody>\n",
       "    <tr>\n",
       "      <th>01/09/2017</th>\n",
       "      <td>102 LE QUOC HUNG</td>\n",
       "      <td>41.10</td>\n",
       "      <td>30.96</td>\n",
       "      <td>16.20</td>\n",
       "      <td>743.10</td>\n",
       "      <td>23.40</td>\n",
       "      <td>17.60</td>\n",
       "      <td>13.90</td>\n",
       "    </tr>\n",
       "    <tr>\n",
       "      <th>02/09/2017</th>\n",
       "      <td>102 LE QUOC HUNG</td>\n",
       "      <td>40.80</td>\n",
       "      <td>31.91</td>\n",
       "      <td>17.90</td>\n",
       "      <td>765.90</td>\n",
       "      <td>24.60</td>\n",
       "      <td>18.29</td>\n",
       "      <td>15.10</td>\n",
       "    </tr>\n",
       "    <tr>\n",
       "      <th>03/09/2017</th>\n",
       "      <td>102 LE QUOC HUNG</td>\n",
       "      <td>43.80</td>\n",
       "      <td>31.73</td>\n",
       "      <td>14.30</td>\n",
       "      <td>761.60</td>\n",
       "      <td>25.00</td>\n",
       "      <td>19.61</td>\n",
       "      <td>16.40</td>\n",
       "    </tr>\n",
       "    <tr>\n",
       "      <th>04/09/2017</th>\n",
       "      <td>102 LE QUOC HUNG</td>\n",
       "      <td>44.20</td>\n",
       "      <td>31.52</td>\n",
       "      <td>15.30</td>\n",
       "      <td>756.40</td>\n",
       "      <td>24.60</td>\n",
       "      <td>19.22</td>\n",
       "      <td>15.70</td>\n",
       "    </tr>\n",
       "    <tr>\n",
       "      <th>05/09/2017</th>\n",
       "      <td>102 LE QUOC HUNG</td>\n",
       "      <td>40.30</td>\n",
       "      <td>31.72</td>\n",
       "      <td>15.10</td>\n",
       "      <td>761.20</td>\n",
       "      <td>23.40</td>\n",
       "      <td>17.65</td>\n",
       "      <td>14.20</td>\n",
       "    </tr>\n",
       "  </tbody>\n",
       "</table>\n",
       "</div>"
      ],
      "text/plain": [
       "                    LOCATION FLOW_MAX FLOW_AVG FLOW_MIN  VOLUME PRESS_MAX  \\\n",
       "DATE                                                                        \n",
       "01/09/2017  102 LE QUOC HUNG    41.10    30.96    16.20  743.10     23.40   \n",
       "02/09/2017  102 LE QUOC HUNG    40.80    31.91    17.90  765.90     24.60   \n",
       "03/09/2017  102 LE QUOC HUNG    43.80    31.73    14.30  761.60     25.00   \n",
       "04/09/2017  102 LE QUOC HUNG    44.20    31.52    15.30  756.40     24.60   \n",
       "05/09/2017  102 LE QUOC HUNG    40.30    31.72    15.10  761.20     23.40   \n",
       "\n",
       "           PRESS_AVG PRESS_MIN  \n",
       "DATE                            \n",
       "01/09/2017     17.60     13.90  \n",
       "02/09/2017     18.29     15.10  \n",
       "03/09/2017     19.61     16.40  \n",
       "04/09/2017     19.22     15.70  \n",
       "05/09/2017     17.65     14.20  "
      ]
     },
     "execution_count": 339,
     "metadata": {},
     "output_type": "execute_result"
    }
   ],
   "source": [
    "df"
   ]
  },
  {
   "cell_type": "code",
   "execution_count": 340,
   "metadata": {},
   "outputs": [
    {
     "data": {
      "text/plain": [
       "'41.10'"
      ]
     },
     "execution_count": 340,
     "metadata": {},
     "output_type": "execute_result"
    }
   ],
   "source": [
    "df.iloc[0, 1]"
   ]
  },
  {
   "cell_type": "code",
   "execution_count": 341,
   "metadata": {},
   "outputs": [
    {
     "data": {
      "text/plain": [
       "Index(['01/09/2017', '02/09/2017', '03/09/2017', '04/09/2017', '05/09/2017'], dtype='object', name='DATE')"
      ]
     },
     "execution_count": 341,
     "metadata": {},
     "output_type": "execute_result"
    }
   ],
   "source": [
    "df.index"
   ]
  },
  {
   "cell_type": "code",
   "execution_count": 336,
   "metadata": {},
   "outputs": [
    {
     "name": "stdout",
     "output_type": "stream",
     "text": [
      "DatetimeIndex(['2017-09-01', '2017-09-02', '2017-09-03', '2017-09-04',\n",
      "               '2017-09-05'],\n",
      "              dtype='datetime64[ns]', name='DATE', freq=None)\n"
     ]
    },
    {
     "ename": "AttributeError",
     "evalue": "'DatetimeIndex' object has no attribute 'dt'",
     "output_type": "error",
     "traceback": [
      "\u001b[1;31m---------------------------------------------------------------------------\u001b[0m",
      "\u001b[1;31mAttributeError\u001b[0m                            Traceback (most recent call last)",
      "\u001b[1;32m<ipython-input-336-513a532164e3>\u001b[0m in \u001b[0;36m<module>\u001b[1;34m()\u001b[0m\n\u001b[0;32m      3\u001b[0m \u001b[0mdf\u001b[0m\u001b[1;33m.\u001b[0m\u001b[0mloc\u001b[0m\u001b[1;33m[\u001b[0m\u001b[1;34m'20170902'\u001b[0m\u001b[1;33m,\u001b[0m \u001b[1;34m'FLOW_MAX'\u001b[0m\u001b[1;33m]\u001b[0m\u001b[1;33m\u001b[0m\u001b[0m\n\u001b[0;32m      4\u001b[0m \u001b[0mdf\u001b[0m\u001b[1;33m.\u001b[0m\u001b[0mindex\u001b[0m\u001b[1;33m[\u001b[0m\u001b[1;36m0\u001b[0m\u001b[1;33m]\u001b[0m\u001b[1;33m\u001b[0m\u001b[0m\n\u001b[1;32m----> 5\u001b[1;33m \u001b[0mdf\u001b[0m\u001b[1;33m.\u001b[0m\u001b[0mindex\u001b[0m\u001b[1;33m.\u001b[0m\u001b[0mdt\u001b[0m\u001b[1;33m.\u001b[0m\u001b[0mdate\u001b[0m\u001b[1;33m\u001b[0m\u001b[0m\n\u001b[0m",
      "\u001b[1;31mAttributeError\u001b[0m: 'DatetimeIndex' object has no attribute 'dt'"
     ]
    }
   ],
   "source": [
    "df.index = pd.to_datetime(df.index, dayfirst=True)\n",
    "print(df.index)\n",
    "df.loc['20170902', 'FLOW_MAX']\n",
    "df.index[0]\n",
    "df.index.dt.date"
   ]
  },
  {
   "cell_type": "code",
   "execution_count": 322,
   "metadata": {},
   "outputs": [],
   "source": [
    "df.to_csv(loc + \".csv\")"
   ]
  },
  {
   "cell_type": "code",
   "execution_count": 327,
   "metadata": {},
   "outputs": [],
   "source": [
    "df2 = pd.read_csv(loc + \".csv\", index_col='DATE')"
   ]
  },
  {
   "cell_type": "code",
   "execution_count": 328,
   "metadata": {},
   "outputs": [
    {
     "data": {
      "text/html": [
       "<div>\n",
       "<style>\n",
       "    .dataframe thead tr:only-child th {\n",
       "        text-align: right;\n",
       "    }\n",
       "\n",
       "    .dataframe thead th {\n",
       "        text-align: left;\n",
       "    }\n",
       "\n",
       "    .dataframe tbody tr th {\n",
       "        vertical-align: top;\n",
       "    }\n",
       "</style>\n",
       "<table border=\"1\" class=\"dataframe\">\n",
       "  <thead>\n",
       "    <tr style=\"text-align: right;\">\n",
       "      <th></th>\n",
       "      <th>LOCATION</th>\n",
       "      <th>FLOW_MAX</th>\n",
       "      <th>FLOW_AVG</th>\n",
       "      <th>FLOW_MIN</th>\n",
       "      <th>VOLUME</th>\n",
       "      <th>PRESS_MAX</th>\n",
       "      <th>PRESS_AVG</th>\n",
       "      <th>PRESS_MIN</th>\n",
       "    </tr>\n",
       "    <tr>\n",
       "      <th>DATE</th>\n",
       "      <th></th>\n",
       "      <th></th>\n",
       "      <th></th>\n",
       "      <th></th>\n",
       "      <th></th>\n",
       "      <th></th>\n",
       "      <th></th>\n",
       "      <th></th>\n",
       "    </tr>\n",
       "  </thead>\n",
       "  <tbody>\n",
       "    <tr>\n",
       "      <th>2017-09-01</th>\n",
       "      <td>102 LE QUOC HUNG</td>\n",
       "      <td>41.1</td>\n",
       "      <td>30.96</td>\n",
       "      <td>16.2</td>\n",
       "      <td>743.1</td>\n",
       "      <td>23.4</td>\n",
       "      <td>17.60</td>\n",
       "      <td>13.9</td>\n",
       "    </tr>\n",
       "    <tr>\n",
       "      <th>2017-09-02</th>\n",
       "      <td>102 LE QUOC HUNG</td>\n",
       "      <td>40.8</td>\n",
       "      <td>31.91</td>\n",
       "      <td>17.9</td>\n",
       "      <td>765.9</td>\n",
       "      <td>24.6</td>\n",
       "      <td>18.29</td>\n",
       "      <td>15.1</td>\n",
       "    </tr>\n",
       "    <tr>\n",
       "      <th>2017-09-03</th>\n",
       "      <td>102 LE QUOC HUNG</td>\n",
       "      <td>43.8</td>\n",
       "      <td>31.73</td>\n",
       "      <td>14.3</td>\n",
       "      <td>761.6</td>\n",
       "      <td>25.0</td>\n",
       "      <td>19.61</td>\n",
       "      <td>16.4</td>\n",
       "    </tr>\n",
       "    <tr>\n",
       "      <th>2017-09-04</th>\n",
       "      <td>102 LE QUOC HUNG</td>\n",
       "      <td>44.2</td>\n",
       "      <td>31.52</td>\n",
       "      <td>15.3</td>\n",
       "      <td>756.4</td>\n",
       "      <td>24.6</td>\n",
       "      <td>19.22</td>\n",
       "      <td>15.7</td>\n",
       "    </tr>\n",
       "    <tr>\n",
       "      <th>2017-09-05</th>\n",
       "      <td>102 LE QUOC HUNG</td>\n",
       "      <td>40.3</td>\n",
       "      <td>31.72</td>\n",
       "      <td>15.1</td>\n",
       "      <td>761.2</td>\n",
       "      <td>23.4</td>\n",
       "      <td>17.65</td>\n",
       "      <td>14.2</td>\n",
       "    </tr>\n",
       "  </tbody>\n",
       "</table>\n",
       "</div>"
      ],
      "text/plain": [
       "                    LOCATION  FLOW_MAX  FLOW_AVG  FLOW_MIN  VOLUME  PRESS_MAX  \\\n",
       "DATE                                                                            \n",
       "2017-09-01  102 LE QUOC HUNG      41.1     30.96      16.2   743.1       23.4   \n",
       "2017-09-02  102 LE QUOC HUNG      40.8     31.91      17.9   765.9       24.6   \n",
       "2017-09-03  102 LE QUOC HUNG      43.8     31.73      14.3   761.6       25.0   \n",
       "2017-09-04  102 LE QUOC HUNG      44.2     31.52      15.3   756.4       24.6   \n",
       "2017-09-05  102 LE QUOC HUNG      40.3     31.72      15.1   761.2       23.4   \n",
       "\n",
       "            PRESS_AVG  PRESS_MIN  \n",
       "DATE                              \n",
       "2017-09-01      17.60       13.9  \n",
       "2017-09-02      18.29       15.1  \n",
       "2017-09-03      19.61       16.4  \n",
       "2017-09-04      19.22       15.7  \n",
       "2017-09-05      17.65       14.2  "
      ]
     },
     "execution_count": 328,
     "metadata": {},
     "output_type": "execute_result"
    }
   ],
   "source": [
    "df2"
   ]
  },
  {
   "cell_type": "code",
   "execution_count": 333,
   "metadata": {},
   "outputs": [
    {
     "name": "stdout",
     "output_type": "stream",
     "text": [
      "Index(['2017-09-01', '2017-09-02', '2017-09-03', '2017-09-04', '2017-09-05'], dtype='object', name='DATE')\n"
     ]
    }
   ],
   "source": [
    "df2.iloc[1, 3]\n",
    "df2['FLOW_MAX']\n",
    "# dates = pd.date_range('1/1/2000', periods=8)\n",
    "# dates\n",
    "# dates[1]\n",
    "# pd.to_datetime(df2['DATE'], dayfirst=True)\n",
    "print(df2.index)"
   ]
  },
  {
   "cell_type": "code",
   "execution_count": 231,
   "metadata": {},
   "outputs": [
    {
     "data": {
      "text/html": [
       "<div>\n",
       "<style>\n",
       "    .dataframe thead tr:only-child th {\n",
       "        text-align: right;\n",
       "    }\n",
       "\n",
       "    .dataframe thead th {\n",
       "        text-align: left;\n",
       "    }\n",
       "\n",
       "    .dataframe tbody tr th {\n",
       "        vertical-align: top;\n",
       "    }\n",
       "</style>\n",
       "<table border=\"1\" class=\"dataframe\">\n",
       "  <thead>\n",
       "    <tr style=\"text-align: right;\">\n",
       "      <th></th>\n",
       "      <th>Volume</th>\n",
       "    </tr>\n",
       "    <tr>\n",
       "      <th>Country</th>\n",
       "      <th></th>\n",
       "    </tr>\n",
       "  </thead>\n",
       "  <tbody>\n",
       "    <tr>\n",
       "      <th>Australia</th>\n",
       "      <td>100</td>\n",
       "    </tr>\n",
       "    <tr>\n",
       "      <th>France</th>\n",
       "      <td>200</td>\n",
       "    </tr>\n",
       "    <tr>\n",
       "      <th>Germany</th>\n",
       "      <td>300</td>\n",
       "    </tr>\n",
       "    <tr>\n",
       "      <th>America</th>\n",
       "      <td>400</td>\n",
       "    </tr>\n",
       "  </tbody>\n",
       "</table>\n",
       "</div>"
      ],
      "text/plain": [
       "           Volume\n",
       "Country          \n",
       "Australia     100\n",
       "France        200\n",
       "Germany       300\n",
       "America       400"
      ]
     },
     "execution_count": 231,
     "metadata": {},
     "output_type": "execute_result"
    }
   ],
   "source": [
    "data = [['Australia', 100], ['France', 200], ['Germany', 300], ['America', 400]]\n",
    "df = pd.DataFrame(data, columns=['Country', 'Volume']).set_index('Country')\n",
    "df"
   ]
  },
  {
   "cell_type": "code",
   "execution_count": 232,
   "metadata": {},
   "outputs": [
    {
     "name": "stdout",
     "output_type": "stream",
     "text": [
      "           Volume\n",
      "Country          \n",
      "Australia     100\n",
      "France        200\n",
      "Germany       300\n",
      "America       400\n"
     ]
    }
   ],
   "source": [
    "print(df)"
   ]
  },
  {
   "cell_type": "code",
   "execution_count": 233,
   "metadata": {},
   "outputs": [
    {
     "data": {
      "text/plain": [
       "200"
      ]
     },
     "execution_count": 233,
     "metadata": {},
     "output_type": "execute_result"
    }
   ],
   "source": [
    "df['Volume']['France']"
   ]
  },
  {
   "cell_type": "code",
   "execution_count": 234,
   "metadata": {
    "collapsed": true
   },
   "outputs": [],
   "source": [
    "L = ['Thanks You', 'Its fine no problem', 'Are you sure']\n",
    "df = pd.DataFrame(L)"
   ]
  },
  {
   "cell_type": "code",
   "execution_count": 235,
   "metadata": {},
   "outputs": [
    {
     "name": "stdout",
     "output_type": "stream",
     "text": [
      "                     0\n",
      "0           Thanks You\n",
      "1  Its fine no problem\n",
      "2         Are you sure\n"
     ]
    }
   ],
   "source": [
    "print(df)"
   ]
  },
  {
   "cell_type": "code",
   "execution_count": 236,
   "metadata": {},
   "outputs": [
    {
     "name": "stdout",
     "output_type": "stream",
     "text": [
      "                   col\n",
      "0           Thanks You\n",
      "1  Its fine no problem\n",
      "2         Are you sure\n"
     ]
    }
   ],
   "source": [
    "df = pd.DataFrame({'col': L})\n",
    "print(df)"
   ]
  },
  {
   "cell_type": "code",
   "execution_count": 237,
   "metadata": {},
   "outputs": [
    {
     "name": "stdout",
     "output_type": "stream",
     "text": [
      "   col              new_col\n",
      "0    1           Thanks You\n",
      "1    2  Its fine no problem\n",
      "2    3         Are you sure\n"
     ]
    }
   ],
   "source": [
    "df = pd.DataFrame({'col': [1, 2, 3]})\n",
    "df['new_col'] = L\n",
    "print (df)"
   ]
  },
  {
   "cell_type": "code",
   "execution_count": 238,
   "metadata": {},
   "outputs": [
    {
     "ename": "ValueError",
     "evalue": "arrays must all be same length",
     "output_type": "error",
     "traceback": [
      "\u001b[1;31m---------------------------------------------------------------------------\u001b[0m",
      "\u001b[1;31mValueError\u001b[0m                                Traceback (most recent call last)",
      "\u001b[1;32m<ipython-input-238-106c502b73dd>\u001b[0m in \u001b[0;36m<module>\u001b[1;34m()\u001b[0m\n\u001b[1;32m----> 1\u001b[1;33m \u001b[0mpd\u001b[0m\u001b[1;33m.\u001b[0m\u001b[0mDataFrame\u001b[0m\u001b[1;33m(\u001b[0m\u001b[1;33m{\u001b[0m\u001b[1;34m'col1'\u001b[0m\u001b[1;33m:\u001b[0m \u001b[1;33m[\u001b[0m\u001b[1;36m1\u001b[0m\u001b[1;33m,\u001b[0m \u001b[1;36m2\u001b[0m\u001b[1;33m,\u001b[0m \u001b[1;36m3\u001b[0m\u001b[1;33m,\u001b[0m \u001b[1;36m4\u001b[0m\u001b[1;33m]\u001b[0m\u001b[1;33m,\u001b[0m \u001b[1;34m'col2'\u001b[0m\u001b[1;33m:\u001b[0m \u001b[0mL\u001b[0m\u001b[1;33m}\u001b[0m\u001b[1;33m)\u001b[0m\u001b[1;33m\u001b[0m\u001b[0m\n\u001b[0m",
      "\u001b[1;32mC:\\Programs\\Anaconda3\\lib\\site-packages\\pandas\\core\\frame.py\u001b[0m in \u001b[0;36m__init__\u001b[1;34m(self, data, index, columns, dtype, copy)\u001b[0m\n\u001b[0;32m    273\u001b[0m                                  dtype=dtype, copy=copy)\n\u001b[0;32m    274\u001b[0m         \u001b[1;32melif\u001b[0m \u001b[0misinstance\u001b[0m\u001b[1;33m(\u001b[0m\u001b[0mdata\u001b[0m\u001b[1;33m,\u001b[0m \u001b[0mdict\u001b[0m\u001b[1;33m)\u001b[0m\u001b[1;33m:\u001b[0m\u001b[1;33m\u001b[0m\u001b[0m\n\u001b[1;32m--> 275\u001b[1;33m             \u001b[0mmgr\u001b[0m \u001b[1;33m=\u001b[0m \u001b[0mself\u001b[0m\u001b[1;33m.\u001b[0m\u001b[0m_init_dict\u001b[0m\u001b[1;33m(\u001b[0m\u001b[0mdata\u001b[0m\u001b[1;33m,\u001b[0m \u001b[0mindex\u001b[0m\u001b[1;33m,\u001b[0m \u001b[0mcolumns\u001b[0m\u001b[1;33m,\u001b[0m \u001b[0mdtype\u001b[0m\u001b[1;33m=\u001b[0m\u001b[0mdtype\u001b[0m\u001b[1;33m)\u001b[0m\u001b[1;33m\u001b[0m\u001b[0m\n\u001b[0m\u001b[0;32m    276\u001b[0m         \u001b[1;32melif\u001b[0m \u001b[0misinstance\u001b[0m\u001b[1;33m(\u001b[0m\u001b[0mdata\u001b[0m\u001b[1;33m,\u001b[0m \u001b[0mma\u001b[0m\u001b[1;33m.\u001b[0m\u001b[0mMaskedArray\u001b[0m\u001b[1;33m)\u001b[0m\u001b[1;33m:\u001b[0m\u001b[1;33m\u001b[0m\u001b[0m\n\u001b[0;32m    277\u001b[0m             \u001b[1;32mimport\u001b[0m \u001b[0mnumpy\u001b[0m\u001b[1;33m.\u001b[0m\u001b[0mma\u001b[0m\u001b[1;33m.\u001b[0m\u001b[0mmrecords\u001b[0m \u001b[1;32mas\u001b[0m \u001b[0mmrecords\u001b[0m\u001b[1;33m\u001b[0m\u001b[0m\n",
      "\u001b[1;32mC:\\Programs\\Anaconda3\\lib\\site-packages\\pandas\\core\\frame.py\u001b[0m in \u001b[0;36m_init_dict\u001b[1;34m(self, data, index, columns, dtype)\u001b[0m\n\u001b[0;32m    409\u001b[0m             \u001b[0marrays\u001b[0m \u001b[1;33m=\u001b[0m \u001b[1;33m[\u001b[0m\u001b[0mdata\u001b[0m\u001b[1;33m[\u001b[0m\u001b[0mk\u001b[0m\u001b[1;33m]\u001b[0m \u001b[1;32mfor\u001b[0m \u001b[0mk\u001b[0m \u001b[1;32min\u001b[0m \u001b[0mkeys\u001b[0m\u001b[1;33m]\u001b[0m\u001b[1;33m\u001b[0m\u001b[0m\n\u001b[0;32m    410\u001b[0m \u001b[1;33m\u001b[0m\u001b[0m\n\u001b[1;32m--> 411\u001b[1;33m         \u001b[1;32mreturn\u001b[0m \u001b[0m_arrays_to_mgr\u001b[0m\u001b[1;33m(\u001b[0m\u001b[0marrays\u001b[0m\u001b[1;33m,\u001b[0m \u001b[0mdata_names\u001b[0m\u001b[1;33m,\u001b[0m \u001b[0mindex\u001b[0m\u001b[1;33m,\u001b[0m \u001b[0mcolumns\u001b[0m\u001b[1;33m,\u001b[0m \u001b[0mdtype\u001b[0m\u001b[1;33m=\u001b[0m\u001b[0mdtype\u001b[0m\u001b[1;33m)\u001b[0m\u001b[1;33m\u001b[0m\u001b[0m\n\u001b[0m\u001b[0;32m    412\u001b[0m \u001b[1;33m\u001b[0m\u001b[0m\n\u001b[0;32m    413\u001b[0m     \u001b[1;32mdef\u001b[0m \u001b[0m_init_ndarray\u001b[0m\u001b[1;33m(\u001b[0m\u001b[0mself\u001b[0m\u001b[1;33m,\u001b[0m \u001b[0mvalues\u001b[0m\u001b[1;33m,\u001b[0m \u001b[0mindex\u001b[0m\u001b[1;33m,\u001b[0m \u001b[0mcolumns\u001b[0m\u001b[1;33m,\u001b[0m \u001b[0mdtype\u001b[0m\u001b[1;33m=\u001b[0m\u001b[1;32mNone\u001b[0m\u001b[1;33m,\u001b[0m \u001b[0mcopy\u001b[0m\u001b[1;33m=\u001b[0m\u001b[1;32mFalse\u001b[0m\u001b[1;33m)\u001b[0m\u001b[1;33m:\u001b[0m\u001b[1;33m\u001b[0m\u001b[0m\n",
      "\u001b[1;32mC:\\Programs\\Anaconda3\\lib\\site-packages\\pandas\\core\\frame.py\u001b[0m in \u001b[0;36m_arrays_to_mgr\u001b[1;34m(arrays, arr_names, index, columns, dtype)\u001b[0m\n\u001b[0;32m   5592\u001b[0m     \u001b[1;31m# figure out the index, if necessary\u001b[0m\u001b[1;33m\u001b[0m\u001b[1;33m\u001b[0m\u001b[0m\n\u001b[0;32m   5593\u001b[0m     \u001b[1;32mif\u001b[0m \u001b[0mindex\u001b[0m \u001b[1;32mis\u001b[0m \u001b[1;32mNone\u001b[0m\u001b[1;33m:\u001b[0m\u001b[1;33m\u001b[0m\u001b[0m\n\u001b[1;32m-> 5594\u001b[1;33m         \u001b[0mindex\u001b[0m \u001b[1;33m=\u001b[0m \u001b[0mextract_index\u001b[0m\u001b[1;33m(\u001b[0m\u001b[0marrays\u001b[0m\u001b[1;33m)\u001b[0m\u001b[1;33m\u001b[0m\u001b[0m\n\u001b[0m\u001b[0;32m   5595\u001b[0m     \u001b[1;32melse\u001b[0m\u001b[1;33m:\u001b[0m\u001b[1;33m\u001b[0m\u001b[0m\n\u001b[0;32m   5596\u001b[0m         \u001b[0mindex\u001b[0m \u001b[1;33m=\u001b[0m \u001b[0m_ensure_index\u001b[0m\u001b[1;33m(\u001b[0m\u001b[0mindex\u001b[0m\u001b[1;33m)\u001b[0m\u001b[1;33m\u001b[0m\u001b[0m\n",
      "\u001b[1;32mC:\\Programs\\Anaconda3\\lib\\site-packages\\pandas\\core\\frame.py\u001b[0m in \u001b[0;36mextract_index\u001b[1;34m(data)\u001b[0m\n\u001b[0;32m   5640\u001b[0m             \u001b[0mlengths\u001b[0m \u001b[1;33m=\u001b[0m \u001b[0mlist\u001b[0m\u001b[1;33m(\u001b[0m\u001b[0mset\u001b[0m\u001b[1;33m(\u001b[0m\u001b[0mraw_lengths\u001b[0m\u001b[1;33m)\u001b[0m\u001b[1;33m)\u001b[0m\u001b[1;33m\u001b[0m\u001b[0m\n\u001b[0;32m   5641\u001b[0m             \u001b[1;32mif\u001b[0m \u001b[0mlen\u001b[0m\u001b[1;33m(\u001b[0m\u001b[0mlengths\u001b[0m\u001b[1;33m)\u001b[0m \u001b[1;33m>\u001b[0m \u001b[1;36m1\u001b[0m\u001b[1;33m:\u001b[0m\u001b[1;33m\u001b[0m\u001b[0m\n\u001b[1;32m-> 5642\u001b[1;33m                 \u001b[1;32mraise\u001b[0m \u001b[0mValueError\u001b[0m\u001b[1;33m(\u001b[0m\u001b[1;34m'arrays must all be same length'\u001b[0m\u001b[1;33m)\u001b[0m\u001b[1;33m\u001b[0m\u001b[0m\n\u001b[0m\u001b[0;32m   5643\u001b[0m \u001b[1;33m\u001b[0m\u001b[0m\n\u001b[0;32m   5644\u001b[0m             \u001b[1;32mif\u001b[0m \u001b[0mhave_dicts\u001b[0m\u001b[1;33m:\u001b[0m\u001b[1;33m\u001b[0m\u001b[0m\n",
      "\u001b[1;31mValueError\u001b[0m: arrays must all be same length"
     ]
    }
   ],
   "source": [
    "pd.DataFrame({'col1': [1, 2, 3, 4], 'col2': L})"
   ]
  },
  {
   "cell_type": "code",
   "execution_count": null,
   "metadata": {},
   "outputs": [],
   "source": [
    "data = [['Name','Rank','Complete'],\n",
    "               ['one', 1, 1],\n",
    "               ['two', 2, 1],\n",
    "               ['three', 3, 1],\n",
    "               ['four', 4, 1],\n",
    "               ['five', 5, 1]]\n",
    "df = pd.DataFrame(data)\n",
    "print(df)"
   ]
  },
  {
   "cell_type": "code",
   "execution_count": null,
   "metadata": {},
   "outputs": [],
   "source": [
    "headers = data.pop(0)\n",
    "df = pd.DataFrame(data, columns=headers).set_index(headers[0])\n",
    "print(df)"
   ]
  },
  {
   "cell_type": "code",
   "execution_count": null,
   "metadata": {},
   "outputs": [],
   "source": [
    "df = pd.DataFrame(data[1:], columns=data[0]).set_index(data[0][0])\n",
    "print(df)"
   ]
  },
  {
   "cell_type": "code",
   "execution_count": null,
   "metadata": {},
   "outputs": [],
   "source": [
    "d = {'col1': list(range(1,10)),\n",
    "     'col2': list(range(11,20)),\n",
    "     'col3': list(range(51,60))}\n",
    "d"
   ]
  },
  {
   "cell_type": "code",
   "execution_count": null,
   "metadata": {},
   "outputs": [],
   "source": [
    "d['col1']"
   ]
  },
  {
   "cell_type": "code",
   "execution_count": null,
   "metadata": {},
   "outputs": [],
   "source": [
    "d['col3']"
   ]
  },
  {
   "cell_type": "code",
   "execution_count": null,
   "metadata": {},
   "outputs": [],
   "source": [
    "len(d)"
   ]
  },
  {
   "cell_type": "code",
   "execution_count": null,
   "metadata": {},
   "outputs": [],
   "source": [
    "d.keys()"
   ]
  },
  {
   "cell_type": "code",
   "execution_count": null,
   "metadata": {},
   "outputs": [],
   "source": [
    "d.values()"
   ]
  },
  {
   "cell_type": "code",
   "execution_count": null,
   "metadata": {},
   "outputs": [],
   "source": [
    "[len(v) for v in d.values()]"
   ]
  },
  {
   "cell_type": "code",
   "execution_count": null,
   "metadata": {},
   "outputs": [],
   "source": [
    "list(d.values())[1]"
   ]
  },
  {
   "cell_type": "code",
   "execution_count": null,
   "metadata": {},
   "outputs": [],
   "source": [
    "[d[col][2] for col in d.keys()]"
   ]
  },
  {
   "cell_type": "code",
   "execution_count": null,
   "metadata": {},
   "outputs": [],
   "source": [
    "[d[col][2] for col in d]"
   ]
  },
  {
   "cell_type": "code",
   "execution_count": null,
   "metadata": {},
   "outputs": [],
   "source": [
    "[col for col in d]"
   ]
  },
  {
   "cell_type": "code",
   "execution_count": null,
   "metadata": {},
   "outputs": [],
   "source": [
    "{c: d[c][2] for c in d}"
   ]
  },
  {
   "cell_type": "code",
   "execution_count": null,
   "metadata": {},
   "outputs": [],
   "source": [
    "list_of_dicts = [{c: d[c][i] for c in d} for i in range(len(d['col1']))]\n",
    "list_of_dicts"
   ]
  },
  {
   "cell_type": "code",
   "execution_count": null,
   "metadata": {},
   "outputs": [],
   "source": [
    "pd.DataFrame(list_of_dicts)"
   ]
  },
  {
   "cell_type": "code",
   "execution_count": null,
   "metadata": {},
   "outputs": [],
   "source": [
    "d"
   ]
  },
  {
   "cell_type": "code",
   "execution_count": null,
   "metadata": {},
   "outputs": [],
   "source": [
    "pd.DataFrame(d)"
   ]
  },
  {
   "cell_type": "code",
   "execution_count": null,
   "metadata": {},
   "outputs": [],
   "source": [
    "pd.DataFrame(list_of_dicts) == pd.DataFrame(d)"
   ]
  },
  {
   "cell_type": "code",
   "execution_count": null,
   "metadata": {},
   "outputs": [],
   "source": [
    "d"
   ]
  },
  {
   "cell_type": "code",
   "execution_count": null,
   "metadata": {},
   "outputs": [],
   "source": [
    "list_of_dicts"
   ]
  },
  {
   "cell_type": "code",
   "execution_count": null,
   "metadata": {},
   "outputs": [],
   "source": [
    "{key: [item[key] for item in list_of_dicts] for key in list_of_dicts[0]}"
   ]
  },
  {
   "cell_type": "code",
   "execution_count": null,
   "metadata": {
    "collapsed": true
   },
   "outputs": [],
   "source": []
  }
 ],
 "metadata": {
  "kernelspec": {
   "display_name": "Python 3",
   "language": "python",
   "name": "python3"
  },
  "language_info": {
   "codemirror_mode": {
    "name": "ipython",
    "version": 3
   },
   "file_extension": ".py",
   "mimetype": "text/x-python",
   "name": "python",
   "nbconvert_exporter": "python",
   "pygments_lexer": "ipython3",
   "version": "3.6.2"
  }
 },
 "nbformat": 4,
 "nbformat_minor": 2
}
